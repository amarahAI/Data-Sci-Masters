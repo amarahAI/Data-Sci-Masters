{
 "cells": [
  {
   "cell_type": "markdown",
   "id": "9d553afc",
   "metadata": {},
   "source": [
    "By,\n",
    "Amarah Iqbal"
   ]
  },
  {
   "cell_type": "markdown",
   "id": "c59af0b7",
   "metadata": {},
   "source": [
    "### ANSWERS"
   ]
  },
  {
   "cell_type": "markdown",
   "id": "f0f9451e",
   "metadata": {},
   "source": [
    "# ans 1\n",
    "\n",
    "An API (Application Programming Interface) is a set of protocols, routines, and tools that specifies how software components should interact. APIs are used to allow different software systems to communicate with each other. An example of an API in real life is the Google Maps API, which allows third-party developers to integrate Google Maps into their own applications."
   ]
  },
  {
   "cell_type": "markdown",
   "id": "06b40071",
   "metadata": {},
   "source": [
    "# ans 2\n",
    "\n",
    "Advantages of using APIs include:\n",
    "\n",
    "Increased functionality and features for applications\n",
    "Easier integration of third-party services into applications\n",
    "Faster development time for applications\n",
    "Better user experience for applications\n",
    "Disadvantages of using APIs include:\n",
    "\n",
    "Dependency on third-party services\n",
    "Security risks and vulnerabilities\n",
    "Limited control over the functionality and updates of third-party services\n",
    "Integration challenges with legacy systems"
   ]
  },
  {
   "cell_type": "markdown",
   "id": "f9aa8338",
   "metadata": {},
   "source": [
    "# ans 3 \n",
    "\n",
    "A Web API is an API that uses HTTP (Hypertext Transfer Protocol) to send and receive data.\n",
    "\n",
    "Web APIs are designed to be used over the internet and are often used to integrate different web-based systems and services. \n",
    "\n",
    "The main difference between an API and a Web API is that a Web API uses the internet to send and receive data, \n",
    "while an API can be used to integrate different software components on a local network or system."
   ]
  },
  {
   "cell_type": "markdown",
   "id": "d14b88ae",
   "metadata": {},
   "source": [
    "# ans 4 \n",
    "\n",
    "REST (Representational State Transfer) and SOAP (Simple Object Access Protocol) are two popular architectures used for building web services.\n",
    "\n",
    "REST is a lightweight and flexible architecture that uses HTTP to send and receive data. RESTful web services use standard HTTP methods like GET, POST, PUT, and DELETE to perform CRUD (Create, Read, Update, Delete) operations on resources. RESTful web services use URLs to identify resources and return responses in JSON or XML formats.\n",
    "\n",
    "SOAP, on the other hand, is a heavyweight architecture that uses XML to send and receive data. SOAP web services use a standardized XML messaging protocol to exchange data between applications. SOAP web services require a lot of overhead and are more complex to implement than RESTful web services.\n",
    "\n",
    "Shortcomings of SOAP include:\n",
    "\n",
    "Complexity and verbosity of XML messaging\n",
    "Slower performance due to the overhead of XML messaging\n",
    "Limited browser support for SOAP web services\n",
    "Limited flexibility for handling different data types and structures\n",
    "\n",
    "\n"
   ]
  },
  {
   "cell_type": "markdown",
   "id": "6a192473",
   "metadata": {},
   "source": [
    "# ans 5\n",
    "\n",
    "The main differences between REST and SOAP are:\n",
    "\n",
    "Architecture: REST is a lightweight architecture that uses HTTP to send and receive data, while SOAP is a heavyweight architecture that uses XML messaging protocols.\n",
    "\n",
    "Messaging: RESTful web services use JSON or XML for messaging, while SOAP web services use XML messaging exclusively.\n",
    "\n",
    "Performance: RESTful web services are faster and more efficient than SOAP web services due to the overhead of XML messaging in SOAP.\n",
    "\n",
    "Flexibility: RESTful web services are more flexible and easier to use for handling different data types and structures than SOAP web services.\n",
    "\n",
    "Scalability: RESTful web services are highly scalable due to their lightweight architecture, while SOAP web services can be difficult to scale due to their heavyweight architecture.\n"
   ]
  },
  {
   "cell_type": "code",
   "execution_count": null,
   "id": "c3fa19bd",
   "metadata": {},
   "outputs": [],
   "source": []
  }
 ],
 "metadata": {
  "kernelspec": {
   "display_name": "Python 3 (ipykernel)",
   "language": "python",
   "name": "python3"
  },
  "language_info": {
   "codemirror_mode": {
    "name": "ipython",
    "version": 3
   },
   "file_extension": ".py",
   "mimetype": "text/x-python",
   "name": "python",
   "nbconvert_exporter": "python",
   "pygments_lexer": "ipython3",
   "version": "3.9.7"
  }
 },
 "nbformat": 4,
 "nbformat_minor": 5
}
