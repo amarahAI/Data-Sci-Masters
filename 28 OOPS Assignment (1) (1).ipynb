{
 "cells": [
  {
   "cell_type": "markdown",
   "id": "efdeb9a6",
   "metadata": {},
   "source": [
    "By,\n",
    "Amarah Iqbal"
   ]
  },
  {
   "cell_type": "markdown",
   "id": "2c96b0ed",
   "metadata": {},
   "source": [
    "### ANSWERS"
   ]
  },
  {
   "cell_type": "markdown",
   "id": "a1205c20",
   "metadata": {},
   "source": [
    "# ANS 1 -\n",
    "\n",
    "\n",
    "Abstraction in OOPs is the process of hiding complex implementation details of a system from its user, and only showing the necessary and essential details. It helps in reducing the complexity of the code and provides a simpler interface for the users to interact with.\n",
    "\n",
    "For example, consider a car. When we drive a car, we only need to know how to operate the steering wheel, pedals, and gears. We don't need to know how the engine works, how the fuel is burned, or how the power is transferred to the wheels. This is an example of abstraction in action. The complex details of the car's working are hidden from the driver, and only the necessary details are exposed through the car's interface.\n"
   ]
  },
  {
   "cell_type": "markdown",
   "id": "2f9211d9",
   "metadata": {},
   "source": [
    "# ANS 2 -\n",
    "\n",
    "Abstraction and Encapsulation are two fundamental concepts of object-oriented programming, but they are not the same thing.\n",
    "\n",
    "Abstraction is the process of hiding complex implementation details, while Encapsulation is the process of hiding data and methods within a class, and only providing a controlled interface to access and modify them.\n",
    "\n",
    "For example, consider a bank account. The account balance is private data that should not be directly accessible or modifiable by the user. This can be achieved through encapsulation, by making the balance attribute private and providing methods to deposit, withdraw, and check the balance.\n",
    "\n",
    "On the other hand, abstraction can be seen in the interface of the bank account. The user does not need to know how the balance is stored or how the transactions are processed. The user only needs to know how to use the methods provided by the account to perform the necessary actions."
   ]
  },
  {
   "cell_type": "markdown",
   "id": "e2bc4fbf",
   "metadata": {},
   "source": [
    "#ANS 3 - \n",
    "\n",
    "The abc (Abstract Base Class) module in Python provides a way to define abstract classes. An abstract class is a class that cannot be instantiated, but can be subclassed. It is used to define a template or a blueprint for the classes that inherit from it.\n",
    "\n",
    "The abc module provides the ABC class, which is the base class for all abstract classes. It also provides the abstractmethod decorator, which is used to mark a method as abstract.\n",
    "\n",
    "An example of using the abc module to define an abstract class is shown below:"
   ]
  },
  {
   "cell_type": "code",
   "execution_count": 22,
   "id": "1b355d26",
   "metadata": {},
   "outputs": [],
   "source": [
    "from abc import ABC, abstractmethod\n",
    "\n",
    "class Shape(ABC):\n",
    "    @abstractmethod\n",
    "    def area(self):\n",
    "        pass\n",
    "\n",
    "    @abstractmethod\n",
    "    def perimeter(self):\n",
    "        pass\n"
   ]
  },
  {
   "cell_type": "markdown",
   "id": "97295c3d",
   "metadata": {},
   "source": [
    "# ANS 4 \n",
    "\n",
    "We can achieve data abstraction in Python using access modifiers such as private, public, and protected. Private data members are denoted by a double underscore prefix (__), and they can only be accessed within the class. Protected data members are denoted by a single underscore prefix (_), and they can be accessed within the class and its subclasses. Public data members have no prefix, and they can be accessed from anywhere.\n",
    "\n",
    "Here is an example of how to achieve data abstraction in Python:"
   ]
  },
  {
   "cell_type": "code",
   "execution_count": 23,
   "id": "26cda9cf",
   "metadata": {},
   "outputs": [],
   "source": [
    "class Person:\n",
    "    def __init__(self, name, age):\n",
    "        self.__name = name\n",
    "        self._age = age\n",
    "        self.address = None\n",
    "        \n",
    "    def set_address(self, address):\n",
    "        self.address = address\n",
    "        \n",
    "    def get_name(self):\n",
    "        return self.__name\n",
    "    \n",
    "    def set_name(self, name):\n",
    "        self.__name = name\n"
   ]
  },
  {
   "cell_type": "markdown",
   "id": "8f247adf",
   "metadata": {},
   "source": [
    "ANS 5 -\n",
    "\n",
    "No, we cannot create an instance of an abstract class in Python. An abstract class is a class that contains one or more abstract methods, which are methods that are declared but not implemented. \n",
    "These methods are intended to be overridden by subclasses that inherit from the abstract class.\n",
    "\n",
    "Since an abstract class is not meant to be instantiated, Python prevents us from creating an object\n",
    "of an abstract class. If we try to create an instance of an abstract class, we will get a TypeError.\n"
   ]
  }
 ],
 "metadata": {
  "kernelspec": {
   "display_name": "Python 3 (ipykernel)",
   "language": "python",
   "name": "python3"
  },
  "language_info": {
   "codemirror_mode": {
    "name": "ipython",
    "version": 3
   },
   "file_extension": ".py",
   "mimetype": "text/x-python",
   "name": "python",
   "nbconvert_exporter": "python",
   "pygments_lexer": "ipython3",
   "version": "3.9.7"
  }
 },
 "nbformat": 4,
 "nbformat_minor": 5
}
