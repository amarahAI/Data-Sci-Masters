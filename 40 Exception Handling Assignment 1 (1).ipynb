{
 "cells": [
  {
   "cell_type": "markdown",
   "id": "27805700",
   "metadata": {},
   "source": [
    "By,\n",
    "Amarah Iqbal"
   ]
  },
  {
   "cell_type": "markdown",
   "id": "dbca30c5",
   "metadata": {},
   "source": [
    "### ANSWERS"
   ]
  },
  {
   "cell_type": "markdown",
   "id": "a5930e53",
   "metadata": {},
   "source": [
    "ANS 1 -\n",
    "\n",
    "\n",
    "An exception is an error that occurs during the execution of a program. It disrupts the normal flow of the program and results in termination of the program. Exceptions are a way to handle runtime errors, unexpected conditions or situations in a program.\n",
    "\n",
    "The main difference between Exceptions and Syntax errors is that Syntax errors occur when the Python interpreter cannot parse the code, whereas Exceptions occur when a program is running and an error occurs that cannot be handled."
   ]
  },
  {
   "cell_type": "markdown",
   "id": "097c9674",
   "metadata": {},
   "source": [
    "ANS 2 -\n",
    "\n",
    "If an exception is not handled, the program will terminate abruptly and display an error message that includes the type of exception and where it occurred. This can make it difficult to diagnose the issue and fix the problem. Here's an example:"
   ]
  },
  {
   "cell_type": "code",
   "execution_count": 10,
   "id": "eb3c9c3e",
   "metadata": {},
   "outputs": [
    {
     "ename": "ZeroDivisionError",
     "evalue": "division by zero",
     "output_type": "error",
     "traceback": [
      "\u001b[1;31m---------------------------------------------------------------------------\u001b[0m",
      "\u001b[1;31mZeroDivisionError\u001b[0m                         Traceback (most recent call last)",
      "\u001b[1;32mC:\\Users\\ADMINI~1\\AppData\\Local\\Temp/ipykernel_15728/58121875.py\u001b[0m in \u001b[0;36m<module>\u001b[1;34m\u001b[0m\n\u001b[0;32m      2\u001b[0m \u001b[0mnum1\u001b[0m \u001b[1;33m=\u001b[0m \u001b[1;36m10\u001b[0m\u001b[1;33m\u001b[0m\u001b[1;33m\u001b[0m\u001b[0m\n\u001b[0;32m      3\u001b[0m \u001b[0mnum2\u001b[0m \u001b[1;33m=\u001b[0m \u001b[1;36m0\u001b[0m\u001b[1;33m\u001b[0m\u001b[1;33m\u001b[0m\u001b[0m\n\u001b[1;32m----> 4\u001b[1;33m \u001b[0mresult\u001b[0m \u001b[1;33m=\u001b[0m \u001b[0mnum1\u001b[0m \u001b[1;33m/\u001b[0m \u001b[0mnum2\u001b[0m\u001b[1;33m\u001b[0m\u001b[1;33m\u001b[0m\u001b[0m\n\u001b[0m\u001b[0;32m      5\u001b[0m \u001b[0mprint\u001b[0m\u001b[1;33m(\u001b[0m\u001b[0mresult\u001b[0m\u001b[1;33m)\u001b[0m\u001b[1;33m\u001b[0m\u001b[1;33m\u001b[0m\u001b[0m\n",
      "\u001b[1;31mZeroDivisionError\u001b[0m: division by zero"
     ]
    }
   ],
   "source": [
    "# Example of an unhandled exception\n",
    "num1 = 10\n",
    "num2 = 0\n",
    "result = num1 / num2\n",
    "print(result)\n"
   ]
  },
  {
   "cell_type": "markdown",
   "id": "b579d7de",
   "metadata": {},
   "source": [
    "ANS 3 - \n",
    "\n",
    "The try-except statements are used to catch and handle exceptions in Python. Here's an example:"
   ]
  },
  {
   "cell_type": "code",
   "execution_count": 11,
   "id": "47b5f699",
   "metadata": {},
   "outputs": [
    {
     "name": "stdout",
     "output_type": "stream",
     "text": [
      "Enter a number: 9\n",
      "Enter another number: 6\n",
      "1.5\n"
     ]
    }
   ],
   "source": [
    "# Example of try-except block\n",
    "try:\n",
    "    num1 = int(input(\"Enter a number: \"))\n",
    "    num2 = int(input(\"Enter another number: \"))\n",
    "    result = num1 / num2\n",
    "    print(result)\n",
    "except ZeroDivisionError:\n",
    "    print(\"Cannot divide by zero!\")\n"
   ]
  },
  {
   "cell_type": "markdown",
   "id": "82576f7d",
   "metadata": {},
   "source": [
    "In this example, we use a try block to execute the code that might raise an exception. If an exception occurs, the code inside the except block will be executed. In this case, we catch the ZeroDivisionError and display an error message."
   ]
  },
  {
   "cell_type": "markdown",
   "id": "7e9a83c6",
   "metadata": {},
   "source": [
    "# ANS 4 \n",
    "\n",
    "Here's an example that demonstrates the use of try, except, else, finally, and raise statements in Python:"
   ]
  },
  {
   "cell_type": "code",
   "execution_count": 12,
   "id": "d0f88187",
   "metadata": {},
   "outputs": [
    {
     "name": "stdout",
     "output_type": "stream",
     "text": [
      "Enter a number: 4\n",
      "Enter another number: 6\n",
      "The result is: 0.6666666666666666\n",
      "Execution complete!\n"
     ]
    },
    {
     "ename": "Exception",
     "evalue": "Something went wrong!",
     "output_type": "error",
     "traceback": [
      "\u001b[1;31m---------------------------------------------------------------------------\u001b[0m",
      "\u001b[1;31mException\u001b[0m                                 Traceback (most recent call last)",
      "\u001b[1;32mC:\\Users\\ADMINI~1\\AppData\\Local\\Temp/ipykernel_15728/3339056996.py\u001b[0m in \u001b[0;36m<module>\u001b[1;34m\u001b[0m\n\u001b[0;32m     10\u001b[0m \u001b[1;32mfinally\u001b[0m\u001b[1;33m:\u001b[0m\u001b[1;33m\u001b[0m\u001b[1;33m\u001b[0m\u001b[0m\n\u001b[0;32m     11\u001b[0m     \u001b[0mprint\u001b[0m\u001b[1;33m(\u001b[0m\u001b[1;34m\"Execution complete!\"\u001b[0m\u001b[1;33m)\u001b[0m\u001b[1;33m\u001b[0m\u001b[1;33m\u001b[0m\u001b[0m\n\u001b[1;32m---> 12\u001b[1;33m     \u001b[1;32mraise\u001b[0m \u001b[0mException\u001b[0m\u001b[1;33m(\u001b[0m\u001b[1;34m\"Something went wrong!\"\u001b[0m\u001b[1;33m)\u001b[0m\u001b[1;33m\u001b[0m\u001b[1;33m\u001b[0m\u001b[0m\n\u001b[0m",
      "\u001b[1;31mException\u001b[0m: Something went wrong!"
     ]
    }
   ],
   "source": [
    "# Example of try-except-else-finally-raise\n",
    "try:\n",
    "    num1 = int(input(\"Enter a number: \"))\n",
    "    num2 = int(input(\"Enter another number: \"))\n",
    "    result = num1 / num2\n",
    "except ZeroDivisionError:\n",
    "    print(\"Cannot divide by zero!\")\n",
    "else:\n",
    "    print(\"The result is:\", result)\n",
    "finally:\n",
    "    print(\"Execution complete!\")\n",
    "    raise Exception(\"Something went wrong!\")\n"
   ]
  },
  {
   "cell_type": "markdown",
   "id": "0f608b1a",
   "metadata": {},
   "source": [
    "ANS 5 -\n",
    "\n",
    "Custom exceptions are user-defined exceptions that can be raised in a program to indicate specific errors or exceptional conditions that are not covered by the built-in exceptions. We need Custom Exceptions because they help to identify and handle specific types of errors in a program.\n",
    "\n",
    "Here's an example of creating a custom exception class:"
   ]
  },
  {
   "cell_type": "code",
   "execution_count": null,
   "id": "9271af16",
   "metadata": {},
   "outputs": [],
   "source": [
    "class FileNotFound(Exception):\n",
    "    pass\n",
    "\n",
    "try:\n",
    "    with open('amarah.txt', 'r') as f:\n",
    "        data = f.read()\n",
    "except FileNotFoundError:\n",
    "    raise FileNotFound('The specified file could not be found.')\n"
   ]
  },
  {
   "cell_type": "markdown",
   "id": "0eb62009",
   "metadata": {},
   "source": [
    "In above example, i have defined a custom exception class called FileNotFound that inherits from \n",
    "the base Exception class. I then use a try-except block to catch the built-in FileNotFoundError, \n",
    "and re-raise it as our custom FileNotFound exception with a more meaningful error message. \n",
    "This allows us to handle the exception in a more specific way and provide more information to the user."
   ]
  },
  {
   "cell_type": "markdown",
   "id": "79480f3b",
   "metadata": {},
   "source": [
    "ANS 6 -\n",
    "\n",
    "To create a custom exception class in Python, we can create a new class that inherits from the base Exception class. We can then define the attributes and methods of the custom exception class as needed. Here's an example:"
   ]
  },
  {
   "cell_type": "code",
   "execution_count": 15,
   "id": "a27f6143",
   "metadata": {},
   "outputs": [
    {
     "name": "stdout",
     "output_type": "stream",
     "text": [
      "Error: Cannot calculate square root of a negative number\n"
     ]
    }
   ],
   "source": [
    "class NegativeNumberError(Exception):\n",
    "    def __init__(self, message):\n",
    "        super().__init__(message)\n",
    "        self.message = message\n",
    "\n",
    "def square_root(x):\n",
    "    if x < 0:\n",
    "        raise NegativeNumberError(\"Cannot calculate square root of a negative number\")\n",
    "    else:\n",
    "        return math.sqrt(x)\n",
    "\n",
    "try:\n",
    "    result = square_root(-1)\n",
    "except NegativeNumberError as e:\n",
    "    print(\"Error:\", e.message)\n"
   ]
  },
  {
   "cell_type": "code",
   "execution_count": null,
   "id": "22117eaa",
   "metadata": {},
   "outputs": [],
   "source": []
  }
 ],
 "metadata": {
  "kernelspec": {
   "display_name": "Python 3 (ipykernel)",
   "language": "python",
   "name": "python3"
  },
  "language_info": {
   "codemirror_mode": {
    "name": "ipython",
    "version": 3
   },
   "file_extension": ".py",
   "mimetype": "text/x-python",
   "name": "python",
   "nbconvert_exporter": "python",
   "pygments_lexer": "ipython3",
   "version": "3.9.7"
  }
 },
 "nbformat": 4,
 "nbformat_minor": 5
}
