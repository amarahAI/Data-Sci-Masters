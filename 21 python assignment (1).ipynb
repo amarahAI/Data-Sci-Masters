{
 "cells": [
  {
   "cell_type": "markdown",
   "id": "01cbe239",
   "metadata": {},
   "source": [
    "by Amarah Iqbal"
   ]
  },
  {
   "cell_type": "code",
   "execution_count": null,
   "id": "57350bbe",
   "metadata": {},
   "outputs": [],
   "source": [
    "# ans 1"
   ]
  },
  {
   "cell_type": "markdown",
   "id": "642d8f68",
   "metadata": {},
   "source": [
    "The keyword used to create a function in Python is def.\n",
    "Here's an example function to return a list of odd numbers in the range of 1 to 25:"
   ]
  },
  {
   "cell_type": "code",
   "execution_count": 1,
   "id": "8a820607",
   "metadata": {},
   "outputs": [],
   "source": [
    "def get_odd_numbers():\n",
    "    odd_numbers = []\n",
    "    for num in range(1, 26):\n",
    "        if num % 2 != 0:\n",
    "            odd_numbers.append(num)\n",
    "    return odd_numbers\n"
   ]
  },
  {
   "cell_type": "code",
   "execution_count": null,
   "id": "477c344d",
   "metadata": {},
   "outputs": [],
   "source": [
    "# ans 2"
   ]
  },
  {
   "cell_type": "code",
   "execution_count": null,
   "id": "e13b5539",
   "metadata": {},
   "outputs": [],
   "source": [
    "*args and **kwargs are used in Python functions when we want to pass a variable number \n",
    "of arguments to the function. *args is used to pass a variable number of positional arguments,\n",
    "while **kwargs is used to pass a variable number of keyword arguments.\n",
    "Here are example functions to demonstrate their use:"
   ]
  },
  {
   "cell_type": "code",
   "execution_count": 2,
   "id": "a909802a",
   "metadata": {},
   "outputs": [],
   "source": [
    "# *args example function\n",
    "def print_args(*args):\n",
    "    for arg in args:\n",
    "        print(arg)\n",
    "\n",
    "# **kwargs example function\n",
    "def print_kwargs(**kwargs):\n",
    "    for key, value in kwargs.items():\n",
    "        print(key + \": \" + value)\n"
   ]
  },
  {
   "cell_type": "code",
   "execution_count": null,
   "id": "c8a9753e",
   "metadata": {},
   "outputs": [],
   "source": [
    "# ans 3"
   ]
  },
  {
   "cell_type": "code",
   "execution_count": null,
   "id": "12d90ffb",
   "metadata": {},
   "outputs": [],
   "source": [
    "An iterator in Python is an object that allows us to iterate over a collection of data, \n",
    "such as a list or a string. The iter() method is used to initialize an iterator object,\n",
    "and the next() method is used for iteration. \n",
    "Here's an example to print the first five elements of the given list:"
   ]
  },
  {
   "cell_type": "code",
   "execution_count": 3,
   "id": "cfa502a8",
   "metadata": {},
   "outputs": [
    {
     "name": "stdout",
     "output_type": "stream",
     "text": [
      "2\n",
      "4\n",
      "6\n",
      "8\n",
      "10\n"
     ]
    }
   ],
   "source": [
    "my_list = [2, 4, 6, 8, 10, 12, 14, 16, 18, 20]\n",
    "my_iterator = iter(my_list)\n",
    "for i in range(5):\n",
    "    print(next(my_iterator))\n"
   ]
  },
  {
   "cell_type": "code",
   "execution_count": null,
   "id": "6e75ebd9",
   "metadata": {},
   "outputs": [],
   "source": [
    "# ans 4"
   ]
  },
  {
   "cell_type": "code",
   "execution_count": null,
   "id": "2e182442",
   "metadata": {},
   "outputs": [],
   "source": [
    "A generator function in Python is a special type of function that allows us\n",
    "to generate a sequence of values using the yield keyword. The yield keyword is used to pause\n",
    "the function and return a value, and the function can be resumed from where it left off the next \n",
    "time it is called.\n"
   ]
  },
  {
   "cell_type": "code",
   "execution_count": null,
   "id": "f98f41e1",
   "metadata": {},
   "outputs": [],
   "source": [
    "# ans 5 "
   ]
  },
  {
   "cell_type": "code",
   "execution_count": null,
   "id": "d8eaab62",
   "metadata": {},
   "outputs": [],
   "source": [
    "Heres an example of a generator function to generate prime numbers less than 1000, \n",
    "and using the next() method to print the first 20 prime numbers:"
   ]
  },
  {
   "cell_type": "code",
   "execution_count": 4,
   "id": "d1ef8c08",
   "metadata": {},
   "outputs": [
    {
     "name": "stdout",
     "output_type": "stream",
     "text": [
      "2\n",
      "3\n",
      "5\n",
      "7\n",
      "11\n",
      "13\n",
      "17\n",
      "19\n",
      "23\n",
      "29\n",
      "31\n",
      "37\n",
      "41\n",
      "43\n",
      "47\n",
      "53\n",
      "59\n",
      "61\n",
      "67\n",
      "71\n"
     ]
    }
   ],
   "source": [
    "def get_primes():\n",
    "    num = 2\n",
    "    while True:\n",
    "        for i in range(2, num):\n",
    "            if num % i == 0:\n",
    "                break\n",
    "        else:\n",
    "            yield num\n",
    "        num += 1\n",
    "\n",
    "prime_generator = get_primes()\n",
    "for i in range(20):\n",
    "    print(next(prime_generator))\n"
   ]
  },
  {
   "cell_type": "code",
   "execution_count": null,
   "id": "3eaf3120",
   "metadata": {},
   "outputs": [],
   "source": [
    "# ans 6"
   ]
  },
  {
   "cell_type": "code",
   "execution_count": 5,
   "id": "8d17c9c7",
   "metadata": {},
   "outputs": [
    {
     "name": "stdout",
     "output_type": "stream",
     "text": [
      "0 1 1 2 3 5 8 13 21 34 "
     ]
    }
   ],
   "source": [
    "a, b = 0, 1\n",
    "count = 0\n",
    "while count < 10:\n",
    "    print(a, end=' ')\n",
    "    a, b = b, a + b\n",
    "    count += 1\n"
   ]
  },
  {
   "cell_type": "code",
   "execution_count": null,
   "id": "d868e0ed",
   "metadata": {},
   "outputs": [],
   "source": [
    "# ans 7"
   ]
  },
  {
   "cell_type": "code",
   "execution_count": 6,
   "id": "55428724",
   "metadata": {},
   "outputs": [
    {
     "name": "stdout",
     "output_type": "stream",
     "text": [
      "['p', 'w', 's', 'k', 'i', 'l', 'l', 's']\n"
     ]
    }
   ],
   "source": [
    "my_string = 'pwskills'\n",
    "my_list = [char for char in my_string if char in ['p', 'w', 's', 'k', 'i', 'l']]\n",
    "print(my_list)\n"
   ]
  },
  {
   "cell_type": "code",
   "execution_count": null,
   "id": "8d8c2d0c",
   "metadata": {},
   "outputs": [],
   "source": [
    "# ans 8"
   ]
  },
  {
   "cell_type": "code",
   "execution_count": 7,
   "id": "16b700fc",
   "metadata": {},
   "outputs": [
    {
     "name": "stdout",
     "output_type": "stream",
     "text": [
      "Enter a number: 123\n",
      "123 is not a palindrome number\n"
     ]
    }
   ],
   "source": [
    "num = int(input(\"Enter a number: \"))\n",
    "temp = num\n",
    "reverse_num = 0\n",
    "\n",
    "while temp > 0:\n",
    "    digit = temp % 10\n",
    "    reverse_num = (reverse_num * 10) + digit\n",
    "    temp //= 10\n",
    "\n",
    "if num == reverse_num:\n",
    "    print(num, \"is a palindrome number\")\n",
    "else:\n",
    "    print(num, \"is not a palindrome number\")\n"
   ]
  },
  {
   "cell_type": "code",
   "execution_count": null,
   "id": "585962dd",
   "metadata": {},
   "outputs": [],
   "source": [
    "# ans 9"
   ]
  },
  {
   "cell_type": "code",
   "execution_count": 8,
   "id": "1a4fba90",
   "metadata": {},
   "outputs": [
    {
     "name": "stdout",
     "output_type": "stream",
     "text": [
      "[1, 3, 5, 7, 9, 11, 13, 15, 17, 19, 21, 23, 25, 27, 29, 31, 33, 35, 37, 39, 41, 43, 45, 47, 49, 51, 53, 55, 57, 59, 61, 63, 65, 67, 69, 71, 73, 75, 77, 79, 81, 83, 85, 87, 89, 91, 93, 95, 97, 99]\n"
     ]
    }
   ],
   "source": [
    "odd_numbers = [num for num in range(1, 101) if num % 2 != 0]\n",
    "print(odd_numbers)\n"
   ]
  },
  {
   "cell_type": "code",
   "execution_count": null,
   "id": "0ee80c22",
   "metadata": {},
   "outputs": [],
   "source": []
  }
 ],
 "metadata": {
  "kernelspec": {
   "display_name": "Python 3 (ipykernel)",
   "language": "python",
   "name": "python3"
  },
  "language_info": {
   "codemirror_mode": {
    "name": "ipython",
    "version": 3
   },
   "file_extension": ".py",
   "mimetype": "text/x-python",
   "name": "python",
   "nbconvert_exporter": "python",
   "pygments_lexer": "ipython3",
   "version": "3.9.7"
  }
 },
 "nbformat": 4,
 "nbformat_minor": 5
}
