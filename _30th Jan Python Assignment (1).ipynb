{
 "cells": [
  {
   "cell_type": "markdown",
   "id": "0af9f5bf",
   "metadata": {},
   "source": [
    "By,\n",
    "Amarah Iqbal"
   ]
  },
  {
   "cell_type": "markdown",
   "id": "b1fa93d0",
   "metadata": {},
   "source": [
    "### ANSWERS"
   ]
  },
  {
   "cell_type": "code",
   "execution_count": 35,
   "id": "67414a6b",
   "metadata": {},
   "outputs": [
    {
     "name": "stdout",
     "output_type": "stream",
     "text": [
      "Enter percentage: 80\n",
      "Grade:  C\n"
     ]
    }
   ],
   "source": [
    "# ans 1\n",
    "\n",
    "\n",
    "percentage = float(input(\"Enter percentage: \"))\n",
    "\n",
    "if percentage > 90:\n",
    "    grade = 'A'\n",
    "elif percentage > 80:\n",
    "    grade = 'B'\n",
    "elif percentage >= 60:\n",
    "    grade = 'C'\n",
    "else:\n",
    "    grade = 'D'\n",
    "\n",
    "print(\"Grade: \", grade)\n"
   ]
  },
  {
   "cell_type": "code",
   "execution_count": 36,
   "id": "3ad9392e",
   "metadata": {},
   "outputs": [
    {
     "name": "stdout",
     "output_type": "stream",
     "text": [
      "Enter cost price of bike: 1234\n",
      "Road tax to be paid:  61.7\n"
     ]
    }
   ],
   "source": [
    "# ans 2\n",
    "\n",
    "cost_price = float(input(\"Enter cost price of bike: \"))\n",
    "\n",
    "if cost_price > 100000:\n",
    "    tax_rate = 0.15\n",
    "elif cost_price > 50000:\n",
    "    tax_rate = 0.1\n",
    "else:\n",
    "    tax_rate = 0.05\n",
    "\n",
    "road_tax = cost_price * tax_rate\n",
    "\n",
    "print(\"Road tax to be paid: \", road_tax)\n"
   ]
  },
  {
   "cell_type": "code",
   "execution_count": 37,
   "id": "0c24be90",
   "metadata": {},
   "outputs": [
    {
     "name": "stdout",
     "output_type": "stream",
     "text": [
      "Enter a city: delhi\n",
      "Monument in  delhi :  Red Fort\n"
     ]
    }
   ],
   "source": [
    "# ans 3 \n",
    "\n",
    "city = input(\"Enter a city: \")\n",
    "\n",
    "if city.lower() == 'delhi':\n",
    "    monument = 'Red Fort'\n",
    "elif city.lower() == 'agra':\n",
    "    monument = 'Taj Mahal'\n",
    "elif city.lower() == 'jaipur':\n",
    "    monument = 'Jal Mahal'\n",
    "else:\n",
    "    monument = 'Unknown'\n",
    "\n",
    "print(\"Monument in \", city, \": \", monument)\n"
   ]
  },
  {
   "cell_type": "code",
   "execution_count": 39,
   "id": "f9cc213f",
   "metadata": {},
   "outputs": [
    {
     "name": "stdout",
     "output_type": "stream",
     "text": [
      "Enter a number: 5\n",
      "The given number can be divided by 3 0 times before it is less than or equal to 10.\n"
     ]
    }
   ],
   "source": [
    "# ans 4\n",
    "\n",
    "num = int(input(\"Enter a number: \"))\n",
    "count = 0\n",
    "\n",
    "while num > 10:\n",
    "    num = num / 3\n",
    "    count += 1\n",
    "\n",
    "print(\"The given number can be divided by 3\", count, \"times before it is less than or equal to 10.\")\n"
   ]
  },
  {
   "cell_type": "markdown",
   "id": "4d5c14a5",
   "metadata": {},
   "source": [
    "# ans 5\n",
    "\n",
    "\n",
    "A while loop in Python is used to execute a block of code repeatedly as long as a condition is true. It is used when we don't know the exact number of iterations in advance, but we know the condition that must be met to stop the loop.\n",
    "For example, suppose we want to keep prompting the user to enter a password until they enter a valid one. We can use a while loop as follows:"
   ]
  },
  {
   "cell_type": "code",
   "execution_count": 41,
   "id": "fd67c7dd",
   "metadata": {},
   "outputs": [
    {
     "name": "stdout",
     "output_type": "stream",
     "text": [
      "Enter password: amarah\n",
      "Enter password: amarah\n",
      "Enter password: secret\n",
      "Access granted!\n"
     ]
    }
   ],
   "source": [
    "password = \"\"\n",
    "while password != \"secret\":\n",
    "    password = input(\"Enter password: \")\n",
    "print(\"Access granted!\")\n"
   ]
  },
  {
   "cell_type": "code",
   "execution_count": 43,
   "id": "a65b4659",
   "metadata": {},
   "outputs": [
    {
     "name": "stdout",
     "output_type": "stream",
     "text": [
      "*\n",
      "**\n",
      "***\n",
      "  *\n",
      " **\n",
      "***\n",
      "1\n",
      "22\n",
      "333\n"
     ]
    }
   ],
   "source": [
    "# ans 6 \n",
    "\n",
    "\n",
    "# Pattern 1\n",
    "i = 1\n",
    "while i <= 3:\n",
    "    j = 1\n",
    "    while j <= i:\n",
    "        print(\"*\", end=\"\")\n",
    "        j += 1\n",
    "    print()\n",
    "    i += 1\n",
    "\n",
    "# Output:\n",
    "# *\n",
    "# **\n",
    "# ***\n",
    "\n",
    "# Pattern 2\n",
    "i = 1\n",
    "while i <= 3:\n",
    "    j = 1\n",
    "    while j <= 3:\n",
    "        if j <= (3-i):\n",
    "            print(\" \", end=\"\")\n",
    "        else:\n",
    "            print(\"*\", end=\"\")\n",
    "        j += 1\n",
    "    print()\n",
    "    i += 1\n",
    "\n",
    "# Output:\n",
    "#   *\n",
    "#  **\n",
    "# ***\n",
    "\n",
    "# Pattern 3\n",
    "i = 1\n",
    "while i <= 3:\n",
    "    j = 1\n",
    "    while j <= i:\n",
    "        print(i, end=\"\")\n",
    "        j += 1\n",
    "    print()\n",
    "    i += 1\n",
    "\n",
    "# Output:\n",
    "# 1\n",
    "# 22\n",
    "# 333\n"
   ]
  },
  {
   "cell_type": "code",
   "execution_count": 44,
   "id": "48bb2fd3",
   "metadata": {},
   "outputs": [
    {
     "name": "stdout",
     "output_type": "stream",
     "text": [
      "10\n",
      "9\n",
      "8\n",
      "7\n",
      "6\n",
      "5\n",
      "4\n",
      "3\n",
      "2\n",
      "1\n"
     ]
    }
   ],
   "source": [
    "# ans 7 \n",
    "\n",
    "num = 10\n",
    "while num >= 1:\n",
    "    print(num)\n",
    "    num -= 1\n"
   ]
  },
  {
   "cell_type": "code",
   "execution_count": 45,
   "id": "f7d9c20f",
   "metadata": {},
   "outputs": [
    {
     "name": "stdout",
     "output_type": "stream",
     "text": [
      "10\n",
      "9\n",
      "8\n",
      "7\n",
      "6\n",
      "5\n",
      "4\n",
      "3\n",
      "2\n",
      "1\n"
     ]
    }
   ],
   "source": [
    "# ans 8\n",
    "\n",
    "num = 10\n",
    "while num >= 1:\n",
    "    print(num)\n",
    "    num -= 1"
   ]
  },
  {
   "cell_type": "code",
   "execution_count": null,
   "id": "df30634f",
   "metadata": {},
   "outputs": [],
   "source": []
  }
 ],
 "metadata": {
  "kernelspec": {
   "display_name": "Python 3 (ipykernel)",
   "language": "python",
   "name": "python3"
  },
  "language_info": {
   "codemirror_mode": {
    "name": "ipython",
    "version": 3
   },
   "file_extension": ".py",
   "mimetype": "text/x-python",
   "name": "python",
   "nbconvert_exporter": "python",
   "pygments_lexer": "ipython3",
   "version": "3.9.7"
  }
 },
 "nbformat": 4,
 "nbformat_minor": 5
}
