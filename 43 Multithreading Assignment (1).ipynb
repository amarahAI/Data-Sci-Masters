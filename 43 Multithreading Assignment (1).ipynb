{
 "cells": [
  {
   "cell_type": "markdown",
   "id": "265f9338",
   "metadata": {},
   "source": [
    "By,\n",
    "Amarah Iqbal"
   ]
  },
  {
   "cell_type": "markdown",
   "id": "a97edddf",
   "metadata": {},
   "source": [
    "### ANSWERS"
   ]
  },
  {
   "cell_type": "markdown",
   "id": "18562d82",
   "metadata": {},
   "source": [
    "ANS 1 -\n",
    "\n",
    "Multithreading in Python is a technique used to run multiple threads simultaneously within a single process.\n",
    "\n",
    "It is used to achieve concurrency and improve the responsiveness of a program by allowing it to perform multiple tasks at the same time.\n",
    "\n",
    "The module used to handle threads in Python is the threading module. The threading module provides a way to create and manage threads in Python."
   ]
  },
  {
   "cell_type": "markdown",
   "id": "9c9fd372",
   "metadata": {},
   "source": [
    "ANS 2 -\n",
    "\n",
    "The following functions are provided by the threading module in Python:\n",
    "\n",
    "activeCount: Returns the number of Thread objects that are active.\n",
    "currentThread: Returns a reference to the current Thread object.\n",
    "enumerate: Returns a list of all Thread objects that are currently active."
   ]
  },
  {
   "cell_type": "markdown",
   "id": "1d4309ef",
   "metadata": {},
   "source": [
    "ANS 3 - \n",
    "\n",
    "The following functions are provided by the Thread class in Python:\n",
    "\n",
    "run: The run method is the entry point for a new thread. It is called when the thread is started\n",
    "using the start method.\n",
    "\n",
    "start: The start method is used to start a new thread. It creates a new thread of execution and calls the run method of the Thread object.\n",
    "\n",
    "join: The join method is used to wait for a thread to finish execution. It blocks the calling thread until the thread being joined completes its execution.\n",
    "\n",
    "isAlive: The isAlive method is used to check if a thread is currently executing. It returns True if the thread is currently running, and False otherwise"
   ]
  },
  {
   "cell_type": "code",
   "execution_count": 4,
   "id": "8106bab8",
   "metadata": {},
   "outputs": [
    {
     "name": "stdout",
     "output_type": "stream",
     "text": [
      "1\n",
      "4\n",
      "9\n",
      "16\n",
      "25\n",
      "36\n",
      "49\n",
      "64\n",
      "81\n",
      "100\n",
      "1\n",
      "8\n",
      "27\n",
      "64\n",
      "125\n",
      "216\n",
      "343\n",
      "512\n",
      "729\n",
      "1000\n"
     ]
    }
   ],
   "source": [
    "# ANS 4 \n",
    "\n",
    "\n",
    "import threading\n",
    "\n",
    "def print_squares(n):\n",
    "    for i in range(1, n+1):\n",
    "        print(i**2)\n",
    "\n",
    "def print_cubes(n):\n",
    "    for i in range(1, n+1):\n",
    "        print(i**3)\n",
    "\n",
    "t1 = threading.Thread(target=print_squares, args=(10,))\n",
    "t2 = threading.Thread(target=print_cubes, args=(10,))\n",
    "\n",
    "t1.start()\n",
    "t2.start()\n",
    "\n",
    "t1.join()\n",
    "t2.join()\n"
   ]
  },
  {
   "cell_type": "markdown",
   "id": "5da3ad0d",
   "metadata": {},
   "source": [
    "ANS 5 -\n",
    "\n",
    "Advantages of multithreading:\n",
    "\n",
    "Increased program responsiveness: Multithreading allows a program to perform multiple tasks simultaneously, which can improve its responsiveness.\n",
    "\n",
    "Better resource utilization: Multithreading can make better use of available resources such as CPU, memory, and I/O devices.\n",
    "\n",
    "Simplified program structure: Multithreading can simplify the program structure by allowing the programmer to separate different tasks into separate threads.\n",
    "\n",
    "Disadvantages of multithreading:\n",
    "\n",
    "Increased complexity: Multithreading can make a program more complex and harder to debug.\n",
    "\n",
    "Synchronization and race conditions: Multithreading can introduce synchronization issues and race \n",
    "conditions, where multiple threads are accessing the same shared resource."
   ]
  },
  {
   "cell_type": "markdown",
   "id": "685e9842",
   "metadata": {},
   "source": [
    "ANS 6 -\n",
    "\n",
    "Deadlocks and race conditions are common problems that can occur in multithreaded programs.\n",
    "\n",
    "Deadlock: A deadlock occurs when two or more threads are blocked waiting for each other to release a resource. This can occur when two threads each hold a resource that the other thread needs, and neither thread can proceed until it gets the other resource.\n",
    "\n",
    "Race condition: A race condition occurs when multiple threads are accessing the same shared resource, and the final outcome depends on the order in which the threads execute. This can lead to unpredictable and incorrect results. Race conditions can be prevented by using synchronization techniques such as locks and semaphores."
   ]
  },
  {
   "cell_type": "code",
   "execution_count": null,
   "id": "15cef3b0",
   "metadata": {},
   "outputs": [],
   "source": []
  }
 ],
 "metadata": {
  "kernelspec": {
   "display_name": "Python 3 (ipykernel)",
   "language": "python",
   "name": "python3"
  },
  "language_info": {
   "codemirror_mode": {
    "name": "ipython",
    "version": 3
   },
   "file_extension": ".py",
   "mimetype": "text/x-python",
   "name": "python",
   "nbconvert_exporter": "python",
   "pygments_lexer": "ipython3",
   "version": "3.9.7"
  }
 },
 "nbformat": 4,
 "nbformat_minor": 5
}
