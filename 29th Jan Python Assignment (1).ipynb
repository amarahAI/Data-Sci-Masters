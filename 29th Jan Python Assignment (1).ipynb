{
 "cells": [
  {
   "cell_type": "markdown",
   "id": "89c87068",
   "metadata": {},
   "source": [
    "By,\n",
    "Amarah Iqbal"
   ]
  },
  {
   "cell_type": "markdown",
   "id": "f8720c6f",
   "metadata": {},
   "source": [
    "### ANSWERS"
   ]
  },
  {
   "cell_type": "markdown",
   "id": "b8a46cde",
   "metadata": {},
   "source": [
    "ANS 1 - Python was developed by Guido van Rossum in the late 1980s and was first released in 1991.\n",
    "\n",
    "ANS 2 - Python supports multiple programming paradigms, including procedural, object-oriented, and functional programming.\n",
    "\n",
    "ANS 3 - Yes, Python is case sensitive when dealing with identifiers. For example, variable names \"myvar\" and \"MyVar\" are considered as two different variables.\n",
    "\n",
    "ANS 4 - The correct extension of a Python file is \".py\". For example, \"my_program.py\" is a valid Python file name.\n",
    "\n",
    "ANS 5 - Python code is interpreted, meaning that it is executed line by line by the Python interpreter. However, Python does have the ability to compile code into bytecode for more efficient execution.\n",
    "\n",
    "ANS 6 - Some of the code blocks used in Python include modules, functions, classes, loops, and conditional statements.\n",
    "\n",
    "ANS 7 - In Python, the hash symbol (#) is used to indicate a single-line comment.\n",
    "\n",
    "ANS 8 - The functions that can be used to find the version of Python currently in use include \"sys.version\", \"platform.python_version()\", and \"os.environ['PYTHON_VERSION']\".\n",
    "\n",
    "ANS 9 - Python supports the creation of anonymous functions at runtime using the \"lambda\" construct.\n",
    "\n",
    "ANS 10 - pip stands for \"pip installs packages\" and is a package management system used to install and manage software packages written in Python.\n",
    "\n",
    "ANS 11 - Some of the built-in functions in Python include \"print()\", \"len()\", \"range()\", \"input()\", and \"type()\".\n",
    "\n",
    "ANS 12 - The maximum length of an identifier in Python is 79 characters.\n",
    "\n",
    "ANS 13 - Some of the benefits of using Python include its ease of use, readability, and wide range of libraries and frameworks for various applications, including data analysis, web development, and machine learning.\n",
    "\n",
    "ANS 14 - Memory management in Python is handled automatically by a garbage collector, which frees up memory used by objects that are no longer needed.\n",
    "\n",
    "ANS 15 - To install Python on Windows, you can download the Python installer from the official Python website and run it. To set path variables, go to \"System Properties\" > \"Advanced\" > \"Environment Variables\", and add the Python installation directory to the \"Path\" variable.\n",
    "\n",
    "ANS 16 - Yes, indentation is required in Python to indicate the scope of code blocks. Proper indentation is crucial to the correct execution of Python code."
   ]
  },
  {
   "cell_type": "code",
   "execution_count": null,
   "id": "a21296ea",
   "metadata": {},
   "outputs": [],
   "source": []
  },
  {
   "cell_type": "code",
   "execution_count": null,
   "id": "d0198a20",
   "metadata": {},
   "outputs": [],
   "source": []
  }
 ],
 "metadata": {
  "kernelspec": {
   "display_name": "Python 3 (ipykernel)",
   "language": "python",
   "name": "python3"
  },
  "language_info": {
   "codemirror_mode": {
    "name": "ipython",
    "version": 3
   },
   "file_extension": ".py",
   "mimetype": "text/x-python",
   "name": "python",
   "nbconvert_exporter": "python",
   "pygments_lexer": "ipython3",
   "version": "3.9.7"
  }
 },
 "nbformat": 4,
 "nbformat_minor": 5
}
