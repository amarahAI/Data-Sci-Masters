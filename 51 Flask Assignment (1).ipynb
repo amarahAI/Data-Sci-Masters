{
 "cells": [
  {
   "cell_type": "markdown",
   "id": "9ab28858",
   "metadata": {},
   "source": [
    "By,\n",
    "Amarah Iqbal"
   ]
  },
  {
   "cell_type": "markdown",
   "id": "c59af0b7",
   "metadata": {},
   "source": [
    "### ANSWERS"
   ]
  },
  {
   "cell_type": "markdown",
   "id": "c58c0766",
   "metadata": {},
   "source": [
    "# ans 1\n",
    "\n",
    "Flask is a micro web framework written in Python that is used to build web applications. It is lightweight and easy to use, making it a popular choice for developers who want to build small to medium-sized web applications. Flask has several advantages, including:\n",
    "\n",
    "Easy to learn and use\n",
    "Lightweight and flexible\n",
    "Well-documented and supported by a large community\n",
    "Comes with built-in development server and debugger\n",
    "Can be easily extended with additional modules and packages\n",
    "Supports various web development technologies like HTML, CSS, and JavaScript"
   ]
  },
  {
   "cell_type": "code",
   "execution_count": null,
   "id": "15cd0cbf",
   "metadata": {},
   "outputs": [],
   "source": [
    "# ans 2\n",
    "\n",
    "from flask import Flask\n",
    "\n",
    "app = Flask(__name__)\n",
    "\n",
    "@app.route(\"/\")\n",
    "def hello():\n",
    "    return \"Hello World!!\"\n",
    "\n",
    "if __name__ == \"__main__\":\n",
    "    app.run()\n"
   ]
  },
  {
   "cell_type": "code",
   "execution_count": 2,
   "id": "53a73551",
   "metadata": {},
   "outputs": [
    {
     "data": {
      "image/png": "[encoded data removed]",
      "text/plain": [
       "<IPython.core.display.Image object>"
      ]
     },
     "execution_count": 2,
     "metadata": {},
     "output_type": "execute_result"
    }
   ],
   "source": [
    "from IPython.display import Image\n",
    "Image(filename=r'C:\\Users\\Administrator\\Desktop\\Flask_output.PNG')\n"
   ]
  },
  {
   "cell_type": "markdown",
   "id": "d2e07512",
   "metadata": {},
   "source": [
    "# ans 3 \n",
    "\n",
    "App routing in Flask is the process of mapping URL routes to functions in the Flask application. We use app routes to define how our application responds to different requests from the user's web browser. By using app routes, we can create multiple pages in our web application and define what content is displayed on each page."
   ]
  },
  {
   "cell_type": "code",
   "execution_count": null,
   "id": "a285aeaa",
   "metadata": {},
   "outputs": [],
   "source": [
    "# ans 4 \n",
    "\n",
    "from flask import Flask\n",
    "\n",
    "app = Flask(__name__)\n",
    "\n",
    "@app.route(\"/welcome\")\n",
    "def welcome():\n",
    "    return \"Welcome to ABC Corporation\"\n",
    "\n",
    "@app.route(\"/\")\n",
    "def index():\n",
    "    company_name = \"ABC Corporation\"\n",
    "    location = \"India\"\n",
    "    contact_detail = \"999-999-9999\"\n",
    "    \n",
    "    return f\"Company Name: {company_name}<br>Location: {location}<br>Contact Detail:\n",
    "{contact_detail}\"\n",
    "\n",
    "if __name__ == \"__main__\":\n",
    "    app.run()\n",
    "\n",
    "\n"
   ]
  },
  {
   "cell_type": "code",
   "execution_count": 3,
   "id": "b1904f4f",
   "metadata": {},
   "outputs": [
    {
     "data": {
      "image/png": "[encoded data removed]",
      "text/plain": [
       "<IPython.core.display.Image object>"
      ]
     },
     "execution_count": 3,
     "metadata": {},
     "output_type": "execute_result"
    }
   ],
   "source": [
    "from IPython.display import Image\n",
    "Image(filename=r'C:\\Users\\Administrator\\Desktop\\flask2.PNG')\n"
   ]
  },
  {
   "cell_type": "markdown",
   "id": "51da766e",
   "metadata": {},
   "source": [
    "# ans 5\n",
    "\n",
    "The url_for() function is used in Flask for URL building. It generates a URL to a specific function based on the name of the function. Here's an example code to demonstrate the working of the url_for() function:"
   ]
  },
  {
   "cell_type": "code",
   "execution_count": null,
   "id": "9d84b557",
   "metadata": {},
   "outputs": [],
   "source": [
    "from flask import Flask, url_for\n",
    "\n",
    "app = Flask(__name__)\n",
    "\n",
    "@app.route(\"/\")\n",
    "def index():\n",
    "    return \"Index Page\"\n",
    "\n",
    "@app.route(\"/login\")\n",
    "def login():\n",
    "    return \"Login Page\"\n",
    "\n",
    "@app.route(\"/user/<username>\")\n",
    "def profile(username):\n",
    "    return f\"Hello, {username}!\"\n",
    "\n",
    "with app.test_request_context():\n",
    "    print(url_for(\"index\"))\n",
    "    print(url_for(\"login\"))\n",
    "    print(url_for(\"login\", next=\"/\"))\n",
    "    print(url_for(\"profile\", username=\"John Doe\"))\n"
   ]
  },
  {
   "cell_type": "code",
   "execution_count": null,
   "id": "e656b652",
   "metadata": {},
   "outputs": [],
   "source": [
    "/\n",
    "/login\n",
    "/login?next=%2F\n",
    "/user/John%20Doe\n"
   ]
  }
 ],
 "metadata": {
  "kernelspec": {
   "display_name": "Python 3 (ipykernel)",
   "language": "python",
   "name": "python3"
  },
  "language_info": {
   "codemirror_mode": {
    "name": "ipython",
    "version": 3
   },
   "file_extension": ".py",
   "mimetype": "text/x-python",
   "name": "python",
   "nbconvert_exporter": "python",
   "pygments_lexer": "ipython3",
   "version": "3.9.7"
  }
 },
 "nbformat": 4,
 "nbformat_minor": 5
}
