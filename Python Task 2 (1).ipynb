{
 "cells": [
  {
   "cell_type": "markdown",
   "id": "9daf9e8a",
   "metadata": {},
   "source": [
    "By,\n",
    "Amarah Iqbal"
   ]
  },
  {
   "cell_type": "markdown",
   "id": "10a120ab",
   "metadata": {},
   "source": [
    "### ANSWERS"
   ]
  },
  {
   "cell_type": "code",
   "execution_count": 24,
   "id": "ec737cc5",
   "metadata": {},
   "outputs": [],
   "source": [
    "# ANS 1 -\n",
    "\n",
    "\n",
    "def check_password(password):\n",
    "    upper_count = 0\n",
    "    lower_count = 0\n",
    "    num_count = 0\n",
    "    spec_count = 0\n",
    "    \n",
    "    for char in password:\n",
    "        if char.isupper():\n",
    "            upper_count += 1\n",
    "        elif char.islower():\n",
    "            lower_count += 1\n",
    "        elif char.isdigit():\n",
    "            num_count += 1\n",
    "        else:\n",
    "            spec_count += 1\n",
    "    \n",
    "    if (upper_count >= 2 and lower_count >= 2 and num_count >= 1 and spec_count >= 3 and len(password) == 10):\n",
    "        return \"Valid Password\"\n",
    "    else:\n",
    "        return \"Invalid Password\"\n"
   ]
  },
  {
   "cell_type": "markdown",
   "id": "58ec8792",
   "metadata": {},
   "source": [
    "# ANS 2 -"
   ]
  },
  {
   "cell_type": "code",
   "execution_count": 27,
   "id": "b507a71b",
   "metadata": {},
   "outputs": [
    {
     "name": "stdout",
     "output_type": "stream",
     "text": [
      "['apple']\n",
      "['123', '5678']\n",
      "[('orange', 80), ('mango', 99), ('grapes', 1000)]\n",
      "[1, 4, 9, 16, 25, 36, 49, 64, 81, 100]\n",
      "[1.0, 1.2599210498948732, 1.4422495703074083, 1.5874010519681994, 1.7099759466766968, 1.8171205928321397, 1.912931182772389, 2.0, 2.080083823051904, 2.154434690031884]\n",
      "Even\n",
      "[1, 3, 5, 7, 9]\n",
      "Positive numbers: [1, 2, 3, 4, 5, 6, 7, 8, 9, 10]\n",
      "Negative numbers: []\n"
     ]
    }
   ],
   "source": [
    "# Check if the string starts with a particular letter\n",
    "strings = ['apple', 'banana', 'cherry', 'date']\n",
    "letter = 'a'\n",
    "result = list(filter(lambda x: x.startswith(letter), strings))\n",
    "print(result)  # ['apple']\n",
    "\n",
    "# Check if the string is numeric\n",
    "strings = ['apple', '123', 'cherry', 'date', '5678']\n",
    "result = list(filter(lambda x: x.isnumeric(), strings))\n",
    "print(result)  # ['123', '5678']\n",
    "\n",
    "# Sort a list of tuples having fruit names and their quantity. [(\"mango\",99),(\"orange\",80), (\"grapes\", 1000)]\n",
    "fruits = [(\"mango\", 99), (\"orange\", 80), (\"grapes\", 1000)]\n",
    "sorted_fruits = sorted(fruits, key=lambda x: x[1])\n",
    "print(sorted_fruits)  # [('orange', 80), ('mango', 99), ('grapes', 1000)]\n",
    "\n",
    "# Find the squares of numbers from 1 to 10\n",
    "numbers = [x**2 for x in range(1, 11)]\n",
    "print(numbers)  # [1, 4, 9, 16, 25, 36, 49, 64, 81, 100]\n",
    "\n",
    "# Find the cube root of numbers from 1 to 10\n",
    "import math\n",
    "numbers = [math.pow(x, 1/3) for x in range(1, 11)]\n",
    "print(numbers)  # [1.0, 1.2599210498948732, 1.4422495703074083, 1.5874010519681994, 1.7099759466766968, 1.8171205928321397, 1.912931182772389, 2.0, 2.080083823051904, 2.154434690031884]\n",
    "\n",
    "# Check if a given number is even\n",
    "number = 4\n",
    "result = \"Even\" if number % 2 == 0 else \"Odd\"\n",
    "print(result)  # Even\n",
    "\n",
    "# Filter odd numbers from the given list. [1,2,3,4,5,6,7,8,9,10]\n",
    "numbers = [1, 2, 3, 4, 5, 6, 7, 8, 9, 10]\n",
    "odd_numbers = list(filter(lambda x: x % 2 != 0, numbers))\n",
    "print(odd_numbers)  # [1, 3, 5, 7, 9]\n",
    "\n",
    "# Sort a list of integers into positive and negative integers lists. [1,2,3,4,5,6,-1,-2,-3,-4,-5,0]\n",
    "positive_numbers = list(filter(lambda x: x > 0, numbers))\n",
    "negative_numbers = list(filter(lambda x: x < 0, numbers))\n",
    "\n",
    "print(\"Positive numbers:\", positive_numbers)\n",
    "print(\"Negative numbers:\", negative_numbers)"
   ]
  },
  {
   "cell_type": "code",
   "execution_count": null,
   "id": "70e22495",
   "metadata": {},
   "outputs": [],
   "source": []
  }
 ],
 "metadata": {
  "kernelspec": {
   "display_name": "Python 3 (ipykernel)",
   "language": "python",
   "name": "python3"
  },
  "language_info": {
   "codemirror_mode": {
    "name": "ipython",
    "version": 3
   },
   "file_extension": ".py",
   "mimetype": "text/x-python",
   "name": "python",
   "nbconvert_exporter": "python",
   "pygments_lexer": "ipython3",
   "version": "3.9.7"
  }
 },
 "nbformat": 4,
 "nbformat_minor": 5
}
