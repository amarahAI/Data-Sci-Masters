{
 "cells": [
  {
   "cell_type": "markdown",
   "id": "9ab35409",
   "metadata": {},
   "source": [
    "By,\n",
    "Amarah Iqbal"
   ]
  },
  {
   "cell_type": "markdown",
   "id": "b8bc75be",
   "metadata": {},
   "source": [
    "### ANSWERS"
   ]
  },
  {
   "cell_type": "code",
   "execution_count": 16,
   "id": "b6b9d701",
   "metadata": {},
   "outputs": [],
   "source": [
    "# ANS 1 -\n",
    "\n",
    "\n",
    "class Vehicle:\n",
    "    def __init__(self, name_of_vehicle, max_speed, average_of_vehicle):\n",
    "        self.name_of_vehicle = name_of_vehicle\n",
    "        self.max_speed = max_speed\n",
    "        self.average_of_vehicle = average_of_vehicle\n"
   ]
  },
  {
   "cell_type": "code",
   "execution_count": 17,
   "id": "fe22fe8d",
   "metadata": {},
   "outputs": [
    {
     "name": "stdout",
     "output_type": "stream",
     "text": [
      "Honda Civic has a seating capacity of 5 people.\n"
     ]
    }
   ],
   "source": [
    "# ANS 2 -\n",
    "\n",
    "class Car(Vehicle):\n",
    "    def seating_capacity(self, capacity):\n",
    "        return f\"{self.name_of_vehicle} has a seating capacity of {capacity} people.\"\n",
    "\n",
    "car = Car(\"Honda Civic\", \"200 km/hr\", \"15 km/liter\")\n",
    "print(car.seating_capacity(5)) # Output: Honda Civic has a seating capacity of 5 people.\n"
   ]
  },
  {
   "cell_type": "markdown",
   "id": "45b82a32",
   "metadata": {},
   "source": [
    "#ANS 3 - \n",
    "\n",
    "Multiple inheritance is a feature of object-oriented programming languages in which a class can inherit attributes and methods from multiple parent classes."
   ]
  },
  {
   "cell_type": "code",
   "execution_count": 18,
   "id": "ebc1b41f",
   "metadata": {},
   "outputs": [
    {
     "name": "stdout",
     "output_type": "stream",
     "text": [
      "AMARAH\n",
      "25\n",
      "101\n",
      "90\n",
      "12345\n",
      "50000\n"
     ]
    }
   ],
   "source": [
    "class Person:\n",
    "    def __init__(self, name, age):\n",
    "        self.name = name\n",
    "        self.age = age\n",
    "        \n",
    "    def get_name(self):\n",
    "        return self.name\n",
    "    \n",
    "    def get_age(self):\n",
    "        return self.age\n",
    "\n",
    "class Student:\n",
    "    def __init__(self, roll_no, marks):\n",
    "        self.roll_no = roll_no\n",
    "        self.marks = marks\n",
    "        \n",
    "    def get_roll_no(self):\n",
    "        return self.roll_no\n",
    "    \n",
    "    def get_marks(self):\n",
    "        return self.marks\n",
    "\n",
    "class Employee(Person, Student):\n",
    "    def __init__(self, name, age, roll_no, marks, emp_id, salary):\n",
    "        Person.__init__(self, name, age)\n",
    "        Student.__init__(self, roll_no, marks)\n",
    "        self.emp_id = emp_id\n",
    "        self.salary = salary\n",
    "        \n",
    "    def get_emp_id(self):\n",
    "        return self.emp_id\n",
    "    \n",
    "    def get_salary(self):\n",
    "        return self.salary\n",
    "\n",
    "emp = Employee(\"AMARAH\", 25, 101, 90, 12345, 50000)\n",
    "print(emp.get_name()) # Output\n",
    "print(emp.get_age()) # Output: 25\n",
    "print(emp.get_roll_no()) # Output: 101\n",
    "print(emp.get_marks()) # Output: 90\n",
    "print(emp.get_emp_id()) # Output: 12345\n",
    "print(emp.get_salary()) # Output: 50000\n"
   ]
  },
  {
   "cell_type": "markdown",
   "id": "711d696c",
   "metadata": {},
   "source": [
    "#---ANS 4 \n",
    "\n",
    "Getter and setter methods are used to access and modify private instance variables of a class. In Python, we can use the @property decorator for getters and @<var_name>.setter decorator for setters."
   ]
  },
  {
   "cell_type": "code",
   "execution_count": 19,
   "id": "027103b2",
   "metadata": {},
   "outputs": [],
   "source": [
    "class Person:\n",
    "    def __init__(self, name, age):\n",
    "        self._name = name\n",
    "        self._age = age\n",
    "        \n",
    "    # getter method to get the value of name\n",
    "    def get_name(self):\n",
    "        return self._name\n",
    "    \n",
    "    # setter method to set the value of name\n",
    "    def set_name(self, name):\n",
    "        self._name = name\n",
    "    \n",
    "    # getter method to get the value of age\n",
    "    def get_age(self):\n",
    "        return self._age\n",
    "    \n",
    "    # setter method to set the value of age\n",
    "    def set_age(self, age):\n",
    "        self._age = age\n"
   ]
  },
  {
   "cell_type": "code",
   "execution_count": 20,
   "id": "730126f1",
   "metadata": {},
   "outputs": [
    {
     "name": "stdout",
     "output_type": "stream",
     "text": [
      "amarah\n",
      "namra\n",
      "30\n",
      "35\n"
     ]
    }
   ],
   "source": [
    "person = Person(\"amarah\", 30)\n",
    "print(person.get_name()) \n",
    "person.set_name(\"namra\")\n",
    "print(person.get_name())  \n",
    "print(person.get_age())  # Output: 30\n",
    "person.set_age(35)\n",
    "print(person.get_age()) \n"
   ]
  },
  {
   "cell_type": "markdown",
   "id": "e6cc6d86",
   "metadata": {},
   "source": [
    "ANS 5 -\n",
    "\n",
    "Method overriding is a feature of object-oriented programming that allows a subclass to provide a different implementation of a method that is already defined in its superclass. In other words, a subclass can replace the implementation of a method inherited from its superclass with its own implementation. This is useful when we want to customize the behavior of a method in the subclass."
   ]
  },
  {
   "cell_type": "code",
   "execution_count": 21,
   "id": "877f2a8c",
   "metadata": {},
   "outputs": [
    {
     "name": "stdout",
     "output_type": "stream",
     "text": [
      "Meow\n",
      "Woof\n"
     ]
    }
   ],
   "source": [
    "class Animal:\n",
    "    def make_sound(self):\n",
    "        print(\"The animal makes a sound.\")\n",
    "\n",
    "class Cat(Animal):\n",
    "    def make_sound(self):\n",
    "        print(\"Meow\")\n",
    "\n",
    "class Dog(Animal):\n",
    "    def make_sound(self):\n",
    "        print(\"Woof\")\n",
    "\n",
    "cat = Cat()\n",
    "cat.make_sound()  # Output: Meow\n",
    "\n",
    "dog = Dog()\n",
    "dog.make_sound()  # Output: Woof\n"
   ]
  },
  {
   "cell_type": "code",
   "execution_count": null,
   "id": "49ddfef8",
   "metadata": {},
   "outputs": [],
   "source": []
  }
 ],
 "metadata": {
  "kernelspec": {
   "display_name": "Python 3 (ipykernel)",
   "language": "python",
   "name": "python3"
  },
  "language_info": {
   "codemirror_mode": {
    "name": "ipython",
    "version": 3
   },
   "file_extension": ".py",
   "mimetype": "text/x-python",
   "name": "python",
   "nbconvert_exporter": "python",
   "pygments_lexer": "ipython3",
   "version": "3.9.7"
  }
 },
 "nbformat": 4,
 "nbformat_minor": 5
}
