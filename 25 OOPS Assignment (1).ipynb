{
 "cells": [
  {
   "cell_type": "markdown",
   "id": "5efa9dde",
   "metadata": {},
   "source": [
    "By,\n",
    "Amarah Iqbal"
   ]
  },
  {
   "cell_type": "markdown",
   "id": "32e336bb",
   "metadata": {},
   "source": [
    "### ANSWERS"
   ]
  },
  {
   "cell_type": "markdown",
   "id": "c2b65d47",
   "metadata": {},
   "source": [
    "# ans 1\n",
    "\n",
    "\n",
    "Class is a blueprint or a template that defines the properties and behavior of a type of object. An object, on the other hand, is an instance of a class that has specific values assigned to its properties.\n",
    "\n",
    "For example, we can create a class called Dog that has properties such as name, breed, and age, and behaviors such as bark() and play(). We can then create multiple objects of this class, such as my_dog, your_dog, and their_dog, each with its own set of values for the properties.\n"
   ]
  },
  {
   "cell_type": "markdown",
   "id": "d5c53841",
   "metadata": {},
   "source": [
    "# ans 2\n",
    "\n",
    "The four pillars of OOPs are:\n",
    "\n",
    "Abstraction: the ability to hide complex details and provide a simplified interface for using a class or object.\n",
    "Encapsulation: the practice of keeping related properties and behaviors together within a class, and protecting them from outside interference.\n",
    "Inheritance: the ability to create new classes based on existing classes, inheriting their properties and behaviors and adding new ones as needed.\n",
    "Polymorphism: the ability to use different objects in the same way, regardless of their specific class or implementation.\n"
   ]
  },
  {
   "cell_type": "markdown",
   "id": "f574b215",
   "metadata": {},
   "source": [
    "# ans 3 \n",
    "\n",
    "The __init__() function is used as a constructor for a class, meaning it gets called when a new object of that class is created. Its purpose is to set the initial values of the object's properties.\n",
    "\n",
    "For example, if we have a class Person with properties such as name, age, and gender, we can use the __init__() function to set the initial values of these properties when a new person object is created:"
   ]
  },
  {
   "cell_type": "code",
   "execution_count": 47,
   "id": "7a231128",
   "metadata": {},
   "outputs": [],
   "source": [
    "class Person:\n",
    "    def __init__(self, name, age, gender):\n",
    "        self.name = name\n",
    "        self.age = age\n",
    "        self.gender = gender\n"
   ]
  },
  {
   "cell_type": "markdown",
   "id": "f137c638",
   "metadata": {},
   "source": [
    "# ans 4\n",
    "\n",
    "In OOPs, self is used to refer to the current instance of a class. It is a reference to the object that is being manipulated, and allows us to access its properties and methods.\n",
    "\n",
    "For example, if we have a method called eat() in a class Dog, we can use self to access the dog object's name property within the method:"
   ]
  },
  {
   "cell_type": "code",
   "execution_count": 48,
   "id": "e7929895",
   "metadata": {},
   "outputs": [],
   "source": [
    "class Dog:\n",
    "    def __init__(self, name):\n",
    "        self.name = name\n",
    "    \n",
    "    def eat(self, food):\n",
    "        print(self.name + \" is eating \" + food)\n"
   ]
  },
  {
   "cell_type": "markdown",
   "id": "38aeb81e",
   "metadata": {},
   "source": [
    "# ans 5\n",
    "\n",
    "Inheritance is the process of creating new classes based on existing classes, inheriting their properties and behaviors and adding new ones as needed. There are four types of inheritance:\n",
    "\n",
    "Single inheritance: when a class inherits from only one parent class.\n",
    "Multiple inheritance: when a class inherits from multiple parent classes.\n",
    "Multi-level inheritance: when a class inherits from a parent class, which in turn inherits from another parent class.\n",
    "Hierarchical inheritance: when multiple child classes inherit from the same parent class.\n",
    "For example, we can create a parent class called Animal, with properties such as name, age, and species, and behaviors such as eat() and sleep(). We can then create child classes such as Dog and Cat, which inherit from the Animal class but may have additional properties and behaviors specific to their species."
   ]
  },
  {
   "cell_type": "code",
   "execution_count": 49,
   "id": "c2be0fbf",
   "metadata": {},
   "outputs": [],
   "source": [
    "class Animal:\n",
    "    def __init__(self, name, age, species):\n",
    "        self.name = name\n",
    "        self.age = age\n",
    "        self.species = species\n",
    "    \n",
    "    def eat(self):\n",
    "        print(self.name + \" is eating\")\n",
    "    \n",
    "    def sleep(self):\n",
    "        print(self.name + \" is sleeping\")\n",
    "    \n",
    "class Dog(Animal):\n",
    "    def bark(self):\n",
    "        print(self.name + \" is barking\")\n",
    "    \n",
    "\n"
   ]
  },
  {
   "cell_type": "code",
   "execution_count": 50,
   "id": "d6c378c4",
   "metadata": {},
   "outputs": [],
   "source": [
    "class Rectangle:\n",
    "    def __init__(self, length, width):\n",
    "        self.length = length\n",
    "        self.width = width\n",
    "        \n",
    "    def area(self):\n",
    "        return self.length * self.width\n",
    "    \n",
    "    def perimeter(self):\n",
    "        return 2 * (self.length + self.width)\n",
    "    \n",
    "    \n",
    "class Square(Rectangle):\n",
    "    def __init__(self, side):\n",
    "        super().__init__(side, side)\n",
    "        \n",
    "        \n",
    "class Circle:\n",
    "    def __init__(self, radius):\n",
    "        self.radius = radius\n",
    "        \n",
    "    def area(self):\n",
    "        return 3.14 * self.radius * self.radius\n",
    "    \n",
    "    def perimeter(self):\n",
    "        return 2 * 3.14 * self.radius\n",
    "    \n",
    "    \n",
    "class Cylinder(Circle):\n",
    "    def __init__(self, radius, height):\n",
    "        super().__init__(radius)\n",
    "        self.height = height\n",
    "        \n",
    "    def volume(self):\n",
    "        return self.area() * self.height\n"
   ]
  },
  {
   "cell_type": "code",
   "execution_count": null,
   "id": "806b8ad9",
   "metadata": {},
   "outputs": [],
   "source": []
  }
 ],
 "metadata": {
  "kernelspec": {
   "display_name": "Python 3 (ipykernel)",
   "language": "python",
   "name": "python3"
  },
  "language_info": {
   "codemirror_mode": {
    "name": "ipython",
    "version": 3
   },
   "file_extension": ".py",
   "mimetype": "text/x-python",
   "name": "python",
   "nbconvert_exporter": "python",
   "pygments_lexer": "ipython3",
   "version": "3.9.7"
  }
 },
 "nbformat": 4,
 "nbformat_minor": 5
}
