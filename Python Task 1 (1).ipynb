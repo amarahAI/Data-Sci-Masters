{
 "cells": [
  {
   "cell_type": "markdown",
   "id": "a7ef9480",
   "metadata": {},
   "source": [
    "By,\n",
    "Amarah Iqbal"
   ]
  },
  {
   "cell_type": "markdown",
   "id": "e51841db",
   "metadata": {},
   "source": [
    "### ANSWERS"
   ]
  },
  {
   "cell_type": "code",
   "execution_count": 30,
   "id": "0e305a95",
   "metadata": {},
   "outputs": [],
   "source": [
    "# ANS 1 -\n",
    "\n",
    "def product_of_numbers(lst):\n",
    "    # Create a flat list of all numbers\n",
    "    flat_list = [num for sublist in lst for num in (sublist if isinstance(sublist, list) else [sublist])]\n",
    "    # Calculate the product of all numbers\n",
    "    product = 1\n",
    "    for num in flat_list:\n",
    "        if isinstance(num, (int, float)):\n",
    "            product *= num\n",
    "    return product\n"
   ]
  },
  {
   "cell_type": "code",
   "execution_count": 32,
   "id": "c8ef0bc8",
   "metadata": {},
   "outputs": [
    {
     "name": "stdout",
     "output_type": "stream",
     "text": [
      "0\n"
     ]
    }
   ],
   "source": [
    "list1 = [1,2,3,4, [44,55,66, True], False, (34,56,78,89,34), {1,2,3,3,2,1}, {1:34, \"key2\": [55, 67, 78, 89], 4: (45, 22, 61, 34)}, [56, 'data science'], 'Machine Learning']\n",
    "\n",
    "print(product_of_numbers(list1)) \n"
   ]
  },
  {
   "cell_type": "markdown",
   "id": "1d514ab3",
   "metadata": {},
   "source": [
    "# ANS 2 -"
   ]
  },
  {
   "cell_type": "code",
   "execution_count": 34,
   "id": "69d6396b",
   "metadata": {},
   "outputs": [
    {
     "name": "stdout",
     "output_type": "stream",
     "text": [
      "r$dzmg$gl$yvxlnv$z$wzgz$hxrvmgrhg.\n"
     ]
    }
   ],
   "source": [
    "def encrypt_message(message):\n",
    "    # Convert message to lowercase\n",
    "    message = message.lower()\n",
    "    # Replace whitespace with '$'\n",
    "    message = message.replace(' ', '$')\n",
    "    # Create a translation table for the encryption\n",
    "    table = str.maketrans('abcdefghijklmnopqrstuvwxyz', 'zyxwvutsrqponmlkjihgfedcba')\n",
    "    # Encrypt the message using the translation table\n",
    "    encrypted_message = message.translate(table)\n",
    "    return encrypted_message\n",
    "\n",
    "# Encrypt the input sentence\n",
    "input_sentence = 'I want to become a Data Scientist.'\n",
    "encrypted_sentence = encrypt_message(input_sentence)\n",
    "\n",
    "print(encrypted_sentence)"
   ]
  }
 ],
 "metadata": {
  "kernelspec": {
   "display_name": "Python 3 (ipykernel)",
   "language": "python",
   "name": "python3"
  },
  "language_info": {
   "codemirror_mode": {
    "name": "ipython",
    "version": 3
   },
   "file_extension": ".py",
   "mimetype": "text/x-python",
   "name": "python",
   "nbconvert_exporter": "python",
   "pygments_lexer": "ipython3",
   "version": "3.9.7"
  }
 },
 "nbformat": 4,
 "nbformat_minor": 5
}
