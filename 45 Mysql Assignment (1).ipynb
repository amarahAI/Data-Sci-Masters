{
 "cells": [
  {
   "cell_type": "markdown",
   "id": "64ab4599",
   "metadata": {},
   "source": [
    "By,\n",
    "Amarah Iqbal"
   ]
  },
  {
   "cell_type": "markdown",
   "id": "c59af0b7",
   "metadata": {},
   "source": [
    "### ANSWERS"
   ]
  },
  {
   "cell_type": "markdown",
   "id": "71e82d23",
   "metadata": {},
   "source": [
    "# ans 1\n",
    "\n",
    "\n",
    "A database is a structured collection of data that can be accessed, managed, and updated electronically. It provides an efficient way to store, organize, and retrieve data. A database management system (DBMS) is used to manage databases.\n",
    "\n",
    "SQL (Structured Query Language) and NoSQL (Not Only SQL) are two different types of databases. SQL databases use a structured data model, where data is stored in tables with fixed columns and rows. They are known for their ability to handle structured data and offer a high level of reliability and consistency. Examples of SQL databases include MySQL, Oracle, and Microsoft SQL Server.\n",
    "\n",
    "NoSQL databases, on the other hand, are non-relational and use a flexible data model, which can vary from document-based to key-value stores. They are designed to handle unstructured and semi-structured data and are highly scalable. Examples of NoSQL databases include MongoDB, Cassandra, and Amazon DynamoDB."
   ]
  },
  {
   "cell_type": "markdown",
   "id": "82a16151",
   "metadata": {},
   "source": [
    "# ans 2\n",
    "\n",
    "DDL stands for Data Definition Language, and it is used to define the database schema. DDL statements are used to create, modify, and delete database objects like tables, indexes, and views. The main DDL commands are:\n",
    "\n",
    "CREATE: used to create a new database object.\n",
    "DROP: used to delete an existing database object.\n",
    "ALTER: used to modify an existing database object.\n",
    "TRUNCATE: used to remove all data from a table.\n",
    "For example, to create a new table in a SQL database, we would use the CREATE statement:\n",
    "    CREATE TABLE customers (\n",
    "    id INT PRIMARY KEY,\n",
    "    name VARCHAR(50),\n",
    "    email VARCHAR(50)\n",
    ");\n"
   ]
  },
  {
   "cell_type": "markdown",
   "id": "b371afc8",
   "metadata": {},
   "source": [
    "# ans 3 \n",
    "\n",
    "DML stands for Data Manipulation Language, and it is used to manipulate data in a database. DML statements are used to insert, update, and delete data in database tables. The main DML commands are:\n",
    "\n",
    "INSERT: used to add new data to a table.\n",
    "UPDATE: used to modify existing data in a table.\n",
    "DELETE: used to remove data from a table.\n",
    "For example, to add a new row to the \"customers\" table, we would use the INSERT statement:\n",
    "\n",
    "INSERT INTO customers (id, name, email) VALUES (1, 'John Smith', 'john@example.com');\n"
   ]
  },
  {
   "cell_type": "markdown",
   "id": "02ea9562",
   "metadata": {},
   "source": [
    "# ans 4 \n",
    "\n",
    "DQL stands for Data Query Language and is used to retrieve data from a database. The SELECT statement is one of the most commonly used commands in SQL and is used to retrieve data from one or more tables. The SELECT statement is structured as follows:\n",
    "\n",
    "SELECT column1, column2, ...\n",
    "FROM table_name\n",
    "WHERE condition;\n",
    "\n",
    "\n",
    "    "
   ]
  },
  {
   "cell_type": "markdown",
   "id": "5446b2a0",
   "metadata": {},
   "source": [
    "# ans 5\n",
    "\n",
    "A primary key is a column or set of columns in a database table that uniquely identifies each row in the table. Primary keys are used to enforce the integrity of the data in the table, and they are also used to establish relationships between tables. A primary key must be unique and non-null.\n",
    "\n",
    "For example, in a table of employees, the employee_id column could be the primary key. This would ensure that each employee has a unique identifier, and it would allow the employee table to be related to other tables that reference employees.\n",
    "\n",
    "A foreign key is a column or set of columns in a database table that references the primary key of another table. Foreign keys are used to establish relationships between tables, and they are used to enforce referential integrity between the tables. A foreign key must reference a valid primary key in another table.\n",
    "\n"
   ]
  },
  {
   "cell_type": "code",
   "execution_count": null,
   "id": "0efca613",
   "metadata": {},
   "outputs": [],
   "source": [
    "# ans 6\n",
    "import mysql.connector\n",
    "\n",
    "mydb = mysql.connector.connect(\n",
    "  host=\"localhost\",\n",
    "  user=\"username\",\n",
    "  password=\"password\",\n",
    "  database=\"databasename\"\n",
    ")\n",
    "\n",
    "mycursor = mydb.cursor()\n",
    "\n",
    "mycursor.execute(\"SELECT * FROM tablename\")\n",
    "\n",
    "myresult = mycursor.fetchall()\n",
    "\n",
    "for x in myresult:\n",
    "  print(x)\n"
   ]
  },
  {
   "cell_type": "code",
   "execution_count": null,
   "id": "f4c37ef8",
   "metadata": {},
   "outputs": [],
   "source": [
    "# ans 7\n",
    "\n",
    "The order of execution of SQL clauses in a SQL query is as follows:\n",
    "\n",
    "FROM: This clause specifies the table(s) from which to retrieve data.\n",
    "WHERE: This clause filters the data based on a specified condition.\n",
    "GROUP BY: This clause groups the data by one or more columns.\n",
    "HAVING: This clause filters the grouped data based on a specified condition.\n",
    "SELECT: This clause selects the columns to retrieve from the table(s).\n",
    "ORDER BY: This clause orders the retrieved data based on one or more columns.\n",
    "LIMIT: This clause limits the number of rows returned by the query."
   ]
  }
 ],
 "metadata": {
  "kernelspec": {
   "display_name": "Python 3 (ipykernel)",
   "language": "python",
   "name": "python3"
  },
  "language_info": {
   "codemirror_mode": {
    "name": "ipython",
    "version": 3
   },
   "file_extension": ".py",
   "mimetype": "text/x-python",
   "name": "python",
   "nbconvert_exporter": "python",
   "pygments_lexer": "ipython3",
   "version": "3.9.7"
  }
 },
 "nbformat": 4,
 "nbformat_minor": 5
}
