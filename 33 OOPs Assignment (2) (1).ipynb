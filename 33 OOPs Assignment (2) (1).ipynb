{
 "cells": [
  {
   "cell_type": "markdown",
   "id": "be1c01d3",
   "metadata": {},
   "source": [
    "By,\n",
    "Amarah Iqbal"
   ]
  },
  {
   "cell_type": "markdown",
   "id": "2c15f60b",
   "metadata": {},
   "source": [
    "### ANSWERS"
   ]
  },
  {
   "cell_type": "markdown",
   "id": "6a899ced",
   "metadata": {},
   "source": [
    "ANS 1 -\n",
    "\n",
    "\n",
    "In Python, the open() function is used to open a file. It returns a file object, which can be used to\n",
    "read, write or modify the contents of the file. The open() function takes two parameters, the name of the file and the mode in which the file is to be opened.\n",
    "\n",
    "The different modes of file opening in Python are:\n",
    "\n",
    "'r': This mode is used for opening a file for reading. The file pointer is placed at the beginning \n",
    "of the file.\n",
    "'w': This mode is used for opening a file for writing. If the file already exists, its contents are truncated. If it does not exist, a new file is created.\n",
    "'a': This mode is used for opening a file for appending. The file pointer is placed at the end of the file. If the file does not exist, a new file is created.\n",
    "'x': This mode is used for opening a file for exclusive creation. If the file already exists,\n",
    "an error is raised.\n",
    "'b': This mode is used for opening a binary file.\n",
    "'t': This mode is used for opening a text file (default mode)."
   ]
  },
  {
   "cell_type": "markdown",
   "id": "73b41b14",
   "metadata": {},
   "source": [
    "ANS 2 -\n",
    "\n",
    "The close() function is used to close a file after it has been opened using the open() function.\n",
    "It is important to close a file because it frees up system resources that were being used to keep\n",
    "the file open. If a large number of files are left open, it can lead to performance issues and may even crash the system. Also, any changes made to a file will not be saved until it is closed."
   ]
  },
  {
   "cell_type": "markdown",
   "id": "d6258bab",
   "metadata": {},
   "source": [
    "#ANS 3 - \n",
    "\n",
    "#create a file and write to it\n",
    "file = open('amarah.txt', 'w')\n",
    "file.write('I want to become a Data Scientist')\n",
    "file.close()\n",
    "\n",
    "#open the file and read its contents\n",
    "file = open('amarah.txt', 'r')\n",
    "contents = file.read()\n",
    "print(contents)\n",
    "file.close()\n"
   ]
  },
  {
   "cell_type": "markdown",
   "id": "da63bdba",
   "metadata": {},
   "source": [
    "# ANS 4 \n",
    "\n",
    "read(): This method reads the entire contents of a file and returns it as a string."
   ]
  },
  {
   "cell_type": "markdown",
   "id": "e8b773e6",
   "metadata": {},
   "source": [
    "file = open('amarah.txt', 'r')\n",
    "contents = file.read()\n",
    "print(contents)\n",
    "file.close()\n"
   ]
  },
  {
   "cell_type": "markdown",
   "id": "dab12acb",
   "metadata": {},
   "source": [
    "readline(): This method reads a single line from a file and returns it as a string. It moves the file pointer to the next line."
   ]
  },
  {
   "cell_type": "markdown",
   "id": "d4d7ba25",
   "metadata": {},
   "source": [
    "file = open('amarah.txt', 'r')\n",
    "line1 = file.readline()\n",
    "line2 = file.readline()\n",
    "print(line1)\n",
    "print(line2)\n",
    "file.close()\n"
   ]
  },
  {
   "cell_type": "markdown",
   "id": "59ccabbe",
   "metadata": {},
   "source": [
    "readlines(): This method reads all the lines of a file and returns them as a list of strings."
   ]
  },
  {
   "cell_type": "markdown",
   "id": "5a1bacb6",
   "metadata": {},
   "source": [
    "file = open('amarah.txt', 'r')\n",
    "lines = file.readlines()\n",
    "for line in lines:\n",
    "    print(line)\n",
    "file.close()\n"
   ]
  },
  {
   "cell_type": "markdown",
   "id": "e13f8fb4",
   "metadata": {},
   "source": [
    "ANS 5 -\n",
    "\n",
    "The with statement is used with the open() function to automatically close the file after it has been used. When a file is opened using the with statement, a context is created that automatically takes care of closing."
   ]
  }
 ],
 "metadata": {
  "kernelspec": {
   "display_name": "Python 3 (ipykernel)",
   "language": "python",
   "name": "python3"
  },
  "language_info": {
   "codemirror_mode": {
    "name": "ipython",
    "version": 3
   },
   "file_extension": ".py",
   "mimetype": "text/x-python",
   "name": "python",
   "nbconvert_exporter": "python",
   "pygments_lexer": "ipython3",
   "version": "3.9.7"
  }
 },
 "nbformat": 4,
 "nbformat_minor": 5
}
