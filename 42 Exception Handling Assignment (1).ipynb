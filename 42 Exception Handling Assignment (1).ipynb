{
 "cells": [
  {
   "cell_type": "markdown",
   "id": "0c702aaa",
   "metadata": {},
   "source": [
    "By,\n",
    "Amarah Iqbal"
   ]
  },
  {
   "cell_type": "markdown",
   "id": "31c0bb4e",
   "metadata": {},
   "source": [
    "### ANSWERS"
   ]
  },
  {
   "cell_type": "markdown",
   "id": "7612a4df",
   "metadata": {},
   "source": [
    "ANS 1 -\n",
    "\n",
    "When creating a custom exception in Python, it is best practice to inherit from the built-in Exception class or one of its subclasses. This is because the Exception class is the base class for all the built-in exceptions in Python, and it provides important functionality for exception handling such as the ability to capture and display traceback information. By inheriting from the Exception class, we can take advantage of this functionality and also make our custom exceptions compatible with the rest of the Python exception hierarchy."
   ]
  },
  {
   "cell_type": "markdown",
   "id": "bb896975",
   "metadata": {},
   "source": [
    "ANS 2 -\n",
    "\n",
    "BaseException\n",
    "+-- SystemExit\n",
    "+-- KeyboardInterrupt\n",
    "+-- GeneratorExit\n",
    "+-- Exception\n",
    "+-- StopIteration\n",
    "+-- AssertionError\n",
    "+-- AttributeError\n",
    "+-- LookupError\n",
    "| +-- IndexError\n",
    "| +-- KeyError\n",
    "+-- OSError\n",
    "| +-- IOError\n",
    "| +-- OSError\n",
    "+-- NameError\n",
    "+-- SyntaxError\n",
    "+-- TypeError\n",
    "+-- ValueError\n",
    "+-- RuntimeWarning\n",
    "+-- DeprecationWarning\n",
    "+-- FutureWarning\n",
    "+-- UserWarning\n",
    "+-- ImportWarning\n",
    "+-- UnicodeWarning\n",
    "+-- BytesWarning\n",
    "+-- ResourceWarning"
   ]
  },
  {
   "cell_type": "markdown",
   "id": "0ecc4189",
   "metadata": {},
   "source": [
    "ANS 3 - \n",
    "\n",
    "The ArithmeticError class in Python is a base class for all the arithmetic errors. It has several subclasses, including ZeroDivisionError, FloatingPointError, and OverflowError.\n",
    "\n",
    "Two examples of ArithmeticError subclasses are:\n",
    "\n",
    "ZeroDivisionError: This error occurs when you try to divide a number by zero. For example:"
   ]
  },
  {
   "cell_type": "code",
   "execution_count": 5,
   "id": "44ddcba1",
   "metadata": {},
   "outputs": [
    {
     "ename": "ZeroDivisionError",
     "evalue": "division by zero",
     "output_type": "error",
     "traceback": [
      "\u001b[1;31m---------------------------------------------------------------------------\u001b[0m",
      "\u001b[1;31mZeroDivisionError\u001b[0m                         Traceback (most recent call last)",
      "\u001b[1;32mC:\\Users\\ADMINI~1\\AppData\\Local\\Temp/ipykernel_15728/1739022314.py\u001b[0m in \u001b[0;36m<module>\u001b[1;34m\u001b[0m\n\u001b[1;32m----> 1\u001b[1;33m \u001b[0mx\u001b[0m \u001b[1;33m=\u001b[0m \u001b[1;36m5\u001b[0m \u001b[1;33m/\u001b[0m \u001b[1;36m0\u001b[0m\u001b[1;33m\u001b[0m\u001b[1;33m\u001b[0m\u001b[0m\n\u001b[0m",
      "\u001b[1;31mZeroDivisionError\u001b[0m: division by zero"
     ]
    }
   ],
   "source": [
    "x = 5 / 0\n"
   ]
  },
  {
   "cell_type": "markdown",
   "id": "1ae71b8f",
   "metadata": {},
   "source": [
    "OverflowError: This error occurs when the result of an arithmetic operation is too large to be represented by a numeric type. For example:"
   ]
  },
  {
   "cell_type": "code",
   "execution_count": 6,
   "id": "a6f40790",
   "metadata": {},
   "outputs": [],
   "source": [
    "import sys\n",
    "x = sys.maxsize * 2\n"
   ]
  },
  {
   "cell_type": "markdown",
   "id": "f6a48982",
   "metadata": {},
   "source": [
    "# ANS 4 \n",
    "\n",
    "\n",
    "The LookupError class is used to handle errors that occur when trying to access an item in a sequence (like a list or a dictionary) that does not exist.\n",
    "\n",
    "Two examples of LookupError subclasses are:\n",
    "\n",
    "KeyError: This error occurs when you try to access a non-existent key in a dictionary. For example:"
   ]
  },
  {
   "cell_type": "code",
   "execution_count": 8,
   "id": "766da6ec",
   "metadata": {},
   "outputs": [
    {
     "ename": "KeyError",
     "evalue": "'c'",
     "output_type": "error",
     "traceback": [
      "\u001b[1;31m---------------------------------------------------------------------------\u001b[0m",
      "\u001b[1;31mKeyError\u001b[0m                                  Traceback (most recent call last)",
      "\u001b[1;32mC:\\Users\\ADMINI~1\\AppData\\Local\\Temp/ipykernel_15728/928437682.py\u001b[0m in \u001b[0;36m<module>\u001b[1;34m\u001b[0m\n\u001b[0;32m      1\u001b[0m \u001b[0mmy_dict\u001b[0m \u001b[1;33m=\u001b[0m \u001b[1;33m{\u001b[0m\u001b[1;34m\"a\"\u001b[0m\u001b[1;33m:\u001b[0m \u001b[1;36m1\u001b[0m\u001b[1;33m,\u001b[0m \u001b[1;34m\"b\"\u001b[0m\u001b[1;33m:\u001b[0m \u001b[1;36m2\u001b[0m\u001b[1;33m}\u001b[0m\u001b[1;33m\u001b[0m\u001b[1;33m\u001b[0m\u001b[0m\n\u001b[1;32m----> 2\u001b[1;33m \u001b[0mx\u001b[0m \u001b[1;33m=\u001b[0m \u001b[0mmy_dict\u001b[0m\u001b[1;33m[\u001b[0m\u001b[1;34m\"c\"\u001b[0m\u001b[1;33m]\u001b[0m\u001b[1;33m\u001b[0m\u001b[1;33m\u001b[0m\u001b[0m\n\u001b[0m",
      "\u001b[1;31mKeyError\u001b[0m: 'c'"
     ]
    }
   ],
   "source": [
    "my_dict = {\"a\": 1, \"b\": 2}\n",
    "x = my_dict[\"c\"]\n"
   ]
  },
  {
   "cell_type": "markdown",
   "id": "28e5efa1",
   "metadata": {},
   "source": [
    "IndexError: This error occurs when you try to access an item in a list or tuple that does not exist (i.e., an index that is out of range). For example:"
   ]
  },
  {
   "cell_type": "code",
   "execution_count": 9,
   "id": "23eed35d",
   "metadata": {},
   "outputs": [
    {
     "ename": "IndexError",
     "evalue": "list index out of range",
     "output_type": "error",
     "traceback": [
      "\u001b[1;31m---------------------------------------------------------------------------\u001b[0m",
      "\u001b[1;31mIndexError\u001b[0m                                Traceback (most recent call last)",
      "\u001b[1;32mC:\\Users\\ADMINI~1\\AppData\\Local\\Temp/ipykernel_15728/3377244897.py\u001b[0m in \u001b[0;36m<module>\u001b[1;34m\u001b[0m\n\u001b[0;32m      1\u001b[0m \u001b[0mmy_list\u001b[0m \u001b[1;33m=\u001b[0m \u001b[1;33m[\u001b[0m\u001b[1;36m1\u001b[0m\u001b[1;33m,\u001b[0m \u001b[1;36m2\u001b[0m\u001b[1;33m,\u001b[0m \u001b[1;36m3\u001b[0m\u001b[1;33m]\u001b[0m\u001b[1;33m\u001b[0m\u001b[1;33m\u001b[0m\u001b[0m\n\u001b[1;32m----> 2\u001b[1;33m \u001b[0mx\u001b[0m \u001b[1;33m=\u001b[0m \u001b[0mmy_list\u001b[0m\u001b[1;33m[\u001b[0m\u001b[1;36m3\u001b[0m\u001b[1;33m]\u001b[0m\u001b[1;33m\u001b[0m\u001b[1;33m\u001b[0m\u001b[0m\n\u001b[0m",
      "\u001b[1;31mIndexError\u001b[0m: list index out of range"
     ]
    }
   ],
   "source": [
    "my_list = [1, 2, 3]\n",
    "x = my_list[3]\n"
   ]
  },
  {
   "cell_type": "markdown",
   "id": "55bb7226",
   "metadata": {},
   "source": [
    "ANS 5 -\n",
    "\n",
    "\n",
    "ImportError is a built-in exception in Python that is raised when an imported module, package or object cannot be found. This can occur for a number of reasons, such as a typo in the module name, an incorrect search path, or a missing dependency.\n",
    "\n",
    "ModuleNotFoundError is a subclass of ImportError that was introduced in Python 3.6. It is raised when an imported module cannot be found, and it is a more specific version of the ImportError. In other words, ModuleNotFoundError is a specialized version of ImportError that is only raised when a module cannot be found."
   ]
  },
  {
   "cell_type": "markdown",
   "id": "b9d28511",
   "metadata": {},
   "source": [
    "ANS 6 -\n",
    "\n",
    "Here are some best practices for exception handling in Python:\n",
    "\n",
    "Use specific exception classes: It is always best to catch specific exceptions rather than general exceptions. This allows you to handle different types of errors in different ways.\n",
    "\n",
    "Use try-except-else block: Try-except-else block is a best practice for handling exceptions in Python. This block helps in catching the exceptions and also provides a code block to execute when there is \n",
    "no exception.\n",
    "\n"
   ]
  },
  {
   "cell_type": "code",
   "execution_count": null,
   "id": "a3da4dfd",
   "metadata": {},
   "outputs": [],
   "source": []
  }
 ],
 "metadata": {
  "kernelspec": {
   "display_name": "Python 3 (ipykernel)",
   "language": "python",
   "name": "python3"
  },
  "language_info": {
   "codemirror_mode": {
    "name": "ipython",
    "version": 3
   },
   "file_extension": ".py",
   "mimetype": "text/x-python",
   "name": "python",
   "nbconvert_exporter": "python",
   "pygments_lexer": "ipython3",
   "version": "3.9.7"
  }
 },
 "nbformat": 4,
 "nbformat_minor": 5
}
