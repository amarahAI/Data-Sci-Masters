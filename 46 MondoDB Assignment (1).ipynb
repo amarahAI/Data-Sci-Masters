{
 "cells": [
  {
   "cell_type": "markdown",
   "id": "e0c7cfcc",
   "metadata": {},
   "source": [
    "By,\n",
    "Amarah Iqbal"
   ]
  },
  {
   "cell_type": "markdown",
   "id": "c59af0b7",
   "metadata": {},
   "source": [
    "### ANSWERS"
   ]
  },
  {
   "cell_type": "markdown",
   "id": "20a12530",
   "metadata": {},
   "source": [
    "# ans 1\n",
    "\n",
    "\n",
    "MongoDB is a popular NoSQL document-oriented database system that stores data in a JSON-like format. It was developed by MongoDB Inc. Non-relational databases, also known as NoSQL databases, do not rely on the traditional table-based structure of relational databases. Instead, they use document-based or key-value pairs to store data. Non-relational databases are preferred in scenarios where scalability and flexibility are important, and where data is constantly changing. In addition, non-relational databases are often used for storing unstructured or semi-structured data, such as social media data, logs, and sensor data.\n",
    "\n",
    "MongoDB is preferred over SQL databases in scenarios where a high degree of scalability and flexibility are required. It is also preferred for applications that require high performance for read and write operations, such as social media platforms and real-time data analytics systems."
   ]
  },
  {
   "cell_type": "markdown",
   "id": "791ab36c",
   "metadata": {},
   "source": [
    "# ans 2\n",
    "\n",
    "MongoDB has the following features:\n",
    "\n",
    "Document-based: MongoDB stores data in a document format that is similar to JSON. This makes it easy to work with for developers who are familiar with JSON.\n",
    "\n",
    "Scalable: MongoDB is designed to be horizontally scalable, which means that it can handle large amounts of data and high traffic.\n",
    "\n",
    "Flexible data model: MongoDB supports dynamic schema design, which allows for flexibility in data modeling.\n",
    "\n",
    "High availability: MongoDB supports replication and sharding, which ensures high availability and scalability of data.\n",
    "\n",
    "Indexing: MongoDB supports various types of indexing to improve query performance.\n",
    "\n",
    "Aggregation: MongoDB has a powerful aggregation framework that allows for complex data analysis and processing.\n",
    "\n",
    "Easy to use: MongoDB has a simple and intuitive query language that makes it easy to work with for developers.\n",
    "\n",
    "Open source: MongoDB is open source software, which means that it is freely available and can be modified by anyone."
   ]
  },
  {
   "cell_type": "markdown",
   "id": "f3f987b4",
   "metadata": {},
   "source": [
    "# ans 3 \n",
    "\n",
    "To connect to MongoDB using Python, you need to install the PyMongo library first. Here is an example code to connect to MongoDB, create a database, and a collection in MongoDB."
   ]
  },
  {
   "cell_type": "code",
   "execution_count": null,
   "id": "5b230717",
   "metadata": {},
   "outputs": [],
   "source": [
    "import pymongo\n",
    "\n",
    "# Creating a MongoClient object and connecting to the default host and port\n",
    "client = pymongo.MongoClient()\n",
    "\n",
    "# Creating a database named \"mydatabase\"\n",
    "mydatabase = client[\"mydatabase\"]\n",
    "\n",
    "# Creating a collection named \"customers\"\n",
    "customers = mydatabase[\"customers\"]\n"
   ]
  },
  {
   "cell_type": "code",
   "execution_count": null,
   "id": "f9259dc9",
   "metadata": {},
   "outputs": [],
   "source": [
    "# ANS 4 \n",
    "\n",
    "# Inserting one record into the collection\n",
    "customer = { \"name\": \"John\", \"address\": \"Highway 37\" }\n",
    "insert_one_result = customers.insert_one(customer)\n",
    "print(insert_one_result.inserted_id)\n",
    "\n",
    "# Inserting multiple records into the collection\n",
    "customers_data = [\n",
    "  { \"name\": \"Amy\", \"address\": \"Apple st 652\"},\n",
    "  { \"name\": \"Hannah\", \"address\": \"Mountain 21\"},\n",
    "  { \"name\": \"Michael\", \"address\": \"Valley 345\"},\n",
    "  { \"name\": \"Sandy\", \"address\": \"Ocean blvd 2\"},\n",
    "  { \"name\": \"Betty\", \"address\": \"Green Grass 1\"},\n",
    "  { \"name\": \"Richard\", \"address\": \"Sky st 331\"}\n",
    "]\n",
    "insert_many_result = customers.insert_many(customers_data)\n",
    "print(insert_many_result.inserted_ids)\n",
    "\n",
    "# Retrieving the inserted record using find_one() method\n",
    "result = customers.find_one({ \"name\": \"John\" })\n",
    "print(result)\n",
    "\n",
    "# Retrieving all the inserted records using find() method\n",
    "results = customers.find()\n",
    "for result in results:\n",
    "  print(result)\n",
    "\n",
    "\n",
    "    "
   ]
  },
  {
   "cell_type": "markdown",
   "id": "a8c54074",
   "metadata": {},
   "source": [
    "# ans 5\n",
    "\n",
    "The find() method is used to query the MongoDB database. It returns a cursor object that can be used to iterate through the results of the query. The find() method can take various arguments to filter the results based on the specified criteria. Here is a simple code to demonstrate the use of the find() method in MongoDB:\n",
    "\n"
   ]
  },
  {
   "cell_type": "code",
   "execution_count": null,
   "id": "9cc84f4a",
   "metadata": {},
   "outputs": [],
   "source": [
    "# Retrieving all the customers whose name is \"John\"\n",
    "results = customers.find({ \"name\": \"John\" })\n",
    "for result in results:\n",
    "  print(result)\n",
    "\n",
    "# Retrieving all the customers whose address contains the word \"valley\"\n",
    "results = customers.find({ \"address\": { \"$regex\": \"valley\", \"$options\": \"i\" } })\n",
    "for result in results:\n",
    "  print(result)\n"
   ]
  },
  {
   "cell_type": "markdown",
   "id": "ba077e82",
   "metadata": {},
   "source": [
    "# ans 6\n",
    "The sort() method is used to sort the results of a MongoDB query in ascending or descending order based on the specified criteria. The sort() method takes a dictionary as an argument, where the keys are the fields to sort on, and the values are either 1 (for ascending order) or -1 (for descending order). Here is an example to demonstrate sorting in MongoDB"
   ]
  },
  {
   "cell_type": "code",
   "execution_count": null,
   "id": "348d9054",
   "metadata": {},
   "outputs": [],
   "source": [
    "# Retrieving all the customers and sorting them in ascending order based on the \"name\" field\n",
    "results = customers.find().sort(\"name\")\n",
    "for result in results:\n",
    "  print(result)\n",
    "\n",
    "# Retrieving all the customers and sorting them in descending order based on the \"address\" field\n",
    "results = customers.find().sort(\"address\", -1)\n",
    "for result in results:\n",
    "  print(result)\n"
   ]
  },
  {
   "cell_type": "markdown",
   "id": "9dd7c6a2",
   "metadata": {},
   "source": [
    "# ans 7\n",
    "\n",
    "The delete_one() method is used to delete one document from a MongoDB collection that matches the specified criteria. The delete_many() method is used to delete multiple documents from a MongoDB collection that match the specified criteria. The drop() method is used to delete an entire MongoDB collection.\n",
    "\n",
    "The delete_one() method takes a dictionary as an argument, where the keys are the fields to match on, and the values are the values to match. The delete_many() method takes the same arguments as the delete_one() method, but deletes all the documents that match the criteria. The drop() method takes no arguments and deletes the entire collection.\n",
    "\n",
    "These methods are used to remove data from the MongoDB database. They are often used in scenarios where data is no longer needed or has become outdated, or when there is a need to delete sensitive or private data.\n",
    "\n",
    "\n",
    "\n",
    "\n"
   ]
  },
  {
   "cell_type": "code",
   "execution_count": null,
   "id": "48ee2185",
   "metadata": {},
   "outputs": [],
   "source": []
  }
 ],
 "metadata": {
  "kernelspec": {
   "display_name": "Python 3 (ipykernel)",
   "language": "python",
   "name": "python3"
  },
  "language_info": {
   "codemirror_mode": {
    "name": "ipython",
    "version": 3
   },
   "file_extension": ".py",
   "mimetype": "text/x-python",
   "name": "python",
   "nbconvert_exporter": "python",
   "pygments_lexer": "ipython3",
   "version": "3.9.7"
  }
 },
 "nbformat": 4,
 "nbformat_minor": 5
}
